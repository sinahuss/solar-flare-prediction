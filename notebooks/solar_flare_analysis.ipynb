{
  "nbformat": 4,
  "nbformat_minor": 0,
  "metadata": {
    "colab": {
      "provenance": [],
      "toc_visible": true,
      "authorship_tag": "ABX9TyNHPKparZ3SKeO2JG8yqV9n",
      "include_colab_link": true
    },
    "kernelspec": {
      "name": "python3",
      "display_name": "Python 3"
    },
    "language_info": {
      "name": "python"
    }
  },
  "cells": [
    {
      "cell_type": "markdown",
      "metadata": {
        "id": "view-in-github",
        "colab_type": "text"
      },
      "source": [
        "<a href=\"https://colab.research.google.com/github/sinahuss/solar-flare-prediction/blob/main/notebooks/solar_flare_analysis.ipynb\" target=\"_parent\"><img src=\"https://colab.research.google.com/assets/colab-badge.svg\" alt=\"Open In Colab\"/></a>"
      ]
    },
    {
      "cell_type": "markdown",
      "source": [
        "# C964 Capstone: Solar Flare Prediction and Analysis"
      ],
      "metadata": {
        "id": "KkTkq0gHjNlg"
      }
    },
    {
      "cell_type": "markdown",
      "source": [
        "### 1. Import Libraries\n",
        "\n",
        "Import the necessary Python libraries."
      ],
      "metadata": {
        "id": "jia-aKhTeJ9_"
      }
    },
    {
      "cell_type": "code",
      "source": [
        "import pandas as pd\n",
        "import numpy as np\n",
        "import matplotlib.pyplot as plt\n",
        "import seaborn as sns"
      ],
      "metadata": {
        "id": "0AOMLZFXavfH"
      },
      "execution_count": null,
      "outputs": []
    },
    {
      "cell_type": "markdown",
      "source": [
        "### 2. Load Dataset\n",
        "\n",
        "Load the dataset from a public GitHub repository into a Pandas dataframe. Display the first few rows to verify that it has been loaded."
      ],
      "metadata": {
        "id": "l-2r8JEfeptP"
      }
    },
    {
      "cell_type": "code",
      "source": [
        "url = 'https://raw.githubusercontent.com/sinahuss/solar-flare-prediction/refs/heads/main/data/data.csv'\n",
        "df = pd.read_csv(url)\n",
        "\n",
        "df.head()"
      ],
      "metadata": {
        "id": "zCBbIizzO1Mu"
      },
      "execution_count": null,
      "outputs": []
    },
    {
      "cell_type": "markdown",
      "source": [
        "### 3. Categorize and Count Flare Classes\n",
        "\n",
        "Define a function to classify flares based on severity, apply it to create a new column, and then display the distribution of these flare classes."
      ],
      "metadata": {
        "id": "w5lilJikbqfH"
      }
    },
    {
      "cell_type": "code",
      "source": [
        "# Determine the highest flare class for each row\n",
        "def get_flare_class(row):\n",
        "    if row['severe flares'] > 0:\n",
        "        return 'X'\n",
        "    elif row['moderate flares'] > 0:\n",
        "        return 'M'\n",
        "    elif row['common flares'] > 0:\n",
        "        return 'C'\n",
        "    else:\n",
        "        return 'None'\n",
        "\n",
        "# Create a new target column\n",
        "df['flare_class'] = df.apply(get_flare_class, axis=1)\n",
        "\n",
        "print(df['flare_class'].value_counts())"
      ],
      "metadata": {
        "id": "bApKu4oVVaPe"
      },
      "execution_count": null,
      "outputs": []
    },
    {
      "cell_type": "markdown",
      "source": [
        "### 4. One-Hot Encode Categorical Features"
      ],
      "metadata": {
        "id": "fo0In97iiQSt"
      }
    },
    {
      "cell_type": "code",
      "source": [
        "# Identify the categorical columns to be encoded\n",
        "categorical_cols = ['modified Zurich class', 'largest spot size', 'spot distribution']\n",
        "\n",
        "# Apply one-hot encoding using pandas get_dummies\n",
        "df_encoded = pd.get_dummies(df, columns=categorical_cols)\n",
        "\n",
        "# Display the first few rows to see the new columns\n",
        "df_encoded.head()"
      ],
      "metadata": {
        "id": "0I9Vi67biM2k"
      },
      "execution_count": null,
      "outputs": []
    },
    {
      "cell_type": "markdown",
      "source": [
        "### 5. Correlation Matrix Heatmap"
      ],
      "metadata": {
        "id": "UrLIgdpWiUAE"
      }
    },
    {
      "cell_type": "code",
      "source": [
        "# Increase the figure size for better readability\n",
        "plt.figure(figsize=(12, 10))\n",
        "\n",
        "# Create the heatmap\n",
        "# Drop the 'flare_class' column before calculating the correlation matrix\n",
        "sns.heatmap(df_encoded.drop('flare_class', axis=1).corr(), annot=False, cmap='viridis')\n",
        "\n",
        "plt.title('Feature Correlation Matrix')\n",
        "plt.show()"
      ],
      "metadata": {
        "id": "-71lA-RYiW-T"
      },
      "execution_count": null,
      "outputs": []
    },
    {
      "cell_type": "markdown",
      "metadata": {
        "id": "4d6e98ec"
      },
      "source": [
        "### 6. Class Imbalance Visualization"
      ]
    },
    {
      "cell_type": "code",
      "metadata": {
        "id": "91a5a455"
      },
      "source": [
        "plt.figure(figsize=(10, 6))\n",
        "\n",
        "# Create a count plot for your new 'flare_class' target variable\n",
        "sns.countplot(data=df_encoded, order=['None', 'C', 'M', 'X'], x='flare_class', hue='flare_class', palette='magma', legend=False)\n",
        "\n",
        "plt.title('Distribution of Solar Flare Classes')\n",
        "plt.ylabel('Number of Events')\n",
        "plt.xlabel('Flare Class')\n",
        "plt.show()"
      ],
      "execution_count": null,
      "outputs": []
    }
  ]
}