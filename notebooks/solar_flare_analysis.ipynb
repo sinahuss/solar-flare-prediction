{
 "cells": [
  {
   "cell_type": "markdown",
   "metadata": {
    "colab_type": "text",
    "id": "view-in-github"
   },
   "source": [
    "<a href=\"https://colab.research.google.com/github/sinahuss/solar-flare-prediction/blob/main/notebooks/solar_flare_analysis.ipynb\" target=\"_parent\"><img src=\"https://colab.research.google.com/assets/colab-badge.svg\" alt=\"Open In Colab\"/></a>\n"
   ]
  },
  {
   "cell_type": "markdown",
   "metadata": {
    "id": "KkTkq0gHjNlg"
   },
   "source": [
    "# C964 Capstone: Solar Flare Prediction and Analysis\n"
   ]
  },
  {
   "cell_type": "markdown",
   "metadata": {},
   "source": [
    "## 1. Business Understanding\n",
    "\n",
    "### Organizational Need\n",
    "\n",
    "Space weather events, particularly solar flares, pose significant risks to critical infrastructure on Earth and in space. Organizations like NOAA's Space Weather Prediction Center require reliable early warning systems to protect:\n",
    "\n",
    "- Satellite communications and GPS systems\n",
    "- Power grids\n",
    "- Astronauts and aircraft\n",
    "- Radio communications\n",
    "\n",
    "Current prediction methods rely heavily on human expertise and limited historical patterns, which may result in missed events or false alarms. These risks can lead to potentially billions of dollars in economic damage and disruptions to essential services.\n",
    "\n",
    "### Project Goal\n",
    "\n",
    "This project aims to develop a data product featuring a machine learning model that can predict the likelihood of solar flare events (C, M, or X class) within a 24-hour period based on characteristics of sunspot regions. The model will provide early warning capability for space weather forecasters, and improved accuracy in flare prediction to reduce false alarms and missed events.\n",
    "\n",
    "### Success Criteria\n",
    "\n",
    "The model's success will be measured by:\n",
    "\n",
    "- High recall for M and X class flares (the most dangerous events) to minimize missed warnings\n",
    "- Balanced precision and recall to reduce false alarms while maintaining sensitivity\n",
    "- Practical deployment feasibility for integration into existing space weather monitoring systems\n",
    "\n",
    "This predictive capability would enable space weather agencies to provide more reliable warnings, allowing for better preparation and protection of critical infrastructure.\n"
   ]
  },
  {
   "cell_type": "markdown",
   "metadata": {},
   "source": [
    "## 2. Data Understanding\n"
   ]
  },
  {
   "cell_type": "markdown",
   "metadata": {
    "id": "l-2r8JEfeptP"
   },
   "source": [
    "### 2.1. Load Libraries and Data\n",
    "\n",
    "Our solar flare prediction analysis begins with importing essential libraries and loading the sunspot dataset.\n",
    "\n",
    "The dataset will be loaded from a public GitHub repository containing the Solar Flare Dataset from Kaggle, which provides the historical data needed to train our flare prediction model.\n",
    "\n",
    "This dataset contains morphological characteristics of sunspot groups that solar physicists use to assess flare potential. The first few rows will be displayed to verify successful data loading and provide an initial glimpse of the sunspot characteristics.\n"
   ]
  },
  {
   "cell_type": "code",
   "execution_count": null,
   "metadata": {
    "id": "zCBbIizzO1Mu"
   },
   "outputs": [],
   "source": [
    "# Core libraries\n",
    "import pandas as pd\n",
    "import numpy as np\n",
    "\n",
    "# Visualization libraries\n",
    "import matplotlib.pyplot as plt\n",
    "import seaborn as sns\n",
    "import plotly.graph_objects as go\n",
    "import plotly.express as px\n",
    "import shap\n",
    "\n",
    "# Resampling\n",
    "from imblearn.over_sampling import SMOTE, ADASYN, SMOTENC, SMOTEN, BorderlineSMOTE\n",
    "from imblearn.under_sampling import EditedNearestNeighbours\n",
    "from imblearn.combine import SMOTEENN, SMOTETomek\n",
    "\n",
    "# Machine learning\n",
    "import sklearn as sk\n",
    "from sklearn.model_selection import (\n",
    "    GridSearchCV,\n",
    "    RandomizedSearchCV,\n",
    "    StratifiedKFold,\n",
    "    train_test_split,\n",
    ")\n",
    "from sklearn.preprocessing import StandardScaler, label_binarize\n",
    "from sklearn.utils.class_weight import compute_class_weight\n",
    "from sklearn.metrics import (\n",
    "    classification_report,\n",
    "    f1_score,\n",
    "    recall_score,\n",
    "    precision_score,\n",
    "    confusion_matrix,\n",
    "    make_scorer,\n",
    "    ConfusionMatrixDisplay,\n",
    "    roc_curve,\n",
    "    auc,\n",
    "    accuracy_score,\n",
    "    roc_auc_score,\n",
    ")\n",
    "from sklearn.inspection import permutation_importance\n",
    "\n",
    "# Machine learning algorithms\n",
    "from sklearn.ensemble import RandomForestClassifier\n",
    "from sklearn.svm import SVC\n",
    "import xgboost as xgb\n",
    "\n",
    "# Load dataset from GitHub repository (public Kaggle dataset)\n",
    "url = \"https://raw.githubusercontent.com/sinahuss/solar-flare-prediction/refs/heads/main/data/data.csv\"\n",
    "df = pd.read_csv(url)\n",
    "\n",
    "# Display first few rows to verify successful loading\n",
    "df.head()"
   ]
  },
  {
   "cell_type": "markdown",
   "metadata": {},
   "source": [
    "### 2.2. Dataset Feature Descriptions\n",
    "\n",
    "The dataset contains 13 features describing each solar active region. The first 10 are the input features for our model, and the last three are the target variables we aim to predict.\n",
    "\n",
    "**Input Features:**\n",
    "\n",
    "- `modified Zurich class`: A classification of the sunspot group's magnetic complexity, generally ordered from least to most complex (A, B, C, D, E, F, H).\n",
    "- `largest spot size`: Size of the largest spot in the group, ordered from smallest to largest (X, R, S, A, H, K).\n",
    "- `spot distribution`: Compactness of the sunspot group, ordered from least to most compact (X, O, I, C).\n",
    "- `activity`: A code representing the region's recent growth (1=decay, 2=no change).\n",
    "- `evolution`: Describes the region's evolution over the last 24 hours (1=decay, 2=no growth, 3=growth).\n",
    "- `previous 24 hour flare activity`: A code summarizing prior flare activity (1=none, 2=one M1, 3=>one M1).\n",
    "- `historically-complex`: A flag indicating if the region was ever historically complex (1=Yes, 2=No).\n",
    "- `became complex on this pass`: A flag indicating if the region became complex on its current transit (1=Yes, 2=No).\n",
    "- `area`: A code for the total area of the sunspot group (1=small, 2=large).\n",
    "- `area of largest spot`: A code for the area of the largest individual spot (1=<=5, 2=>5).\n",
    "\n",
    "Target Variables:\n",
    "\n",
    "- `common flares`: The number of C-class flares produced in the next 24 hours.\n",
    "- `moderate flares`: The number of M-class flares produced in the next 24 hours.\n",
    "- `severe flares`: The number of X-class flares produced in the next 24 hours.\n"
   ]
  },
  {
   "cell_type": "markdown",
   "metadata": {
    "id": "KRY4P9xGI94V"
   },
   "source": [
    "### 2.3. Initial Data Inspection\n",
    "\n",
    "A foundational understanding of the dataset's structure and quality must be established. This inspection is critical for the solar flare prediction model because data quality directly impacts model performance and reliability for space weather forecasting.\n",
    "\n",
    "First, we will use `.info()` to examine the column names, data types, and check for any missing values. The output confirms that there are no missing values, meaning that null values do not have to be accounted for in the data preparation phase.\n",
    "\n",
    "Next, we use `describe()` to generate a summary of the categorical features, including their unique values and most frequent entries, which helps us understand the distribution and composition of the dataset's categorical variables.\n"
   ]
  },
  {
   "cell_type": "code",
   "execution_count": null,
   "metadata": {
    "id": "hmC34kT4I-sO"
   },
   "outputs": [],
   "source": [
    "df.info()\n",
    "\n",
    "df.astype(\"object\").describe().transpose()"
   ]
  },
  {
   "cell_type": "markdown",
   "metadata": {},
   "source": [
    "### 2.4. Exploratory Data Analysis\n"
   ]
  },
  {
   "cell_type": "markdown",
   "metadata": {},
   "source": [
    "#### 2.4.1. Target Variable Analysis\n",
    "\n",
    "Before analyzing the input features, we must first understand the distribution of our target variables: `common flares`, `moderate flares`, and `severe flares`. The plots below show the number of 24-hour periods in the dataset that recorded zero, one, two, or more flares of each type.\n",
    "\n",
    "**Key Findings:**\n",
    "\n",
    "The visualization reveals a severe class imbalance for our solar flare prediction. Out of all 24-hour periods available, only 15% experienced at least one C-Class event, 5% recorded M-Class events, and 1% showed X-Class events.\n",
    "\n",
    "This imbalance has several implications for our machine learning approach:\n",
    "\n",
    "1. **Model Selection:** Traditional accuracy metrics will be misleading due to the dominance of the \"no flare\" class, so there should be higher focus on precision, recall, and F1-score.\n",
    "\n",
    "2. **Sampling Strategy:** We may need to employ techniques like stratified sampling to address the imbalance.\n",
    "\n",
    "3. **Evaluation Metrics:** The model's success will be measured primarily by its ability to correctly identify the rare but dangerous M and X-class flares, rather than overall accuracy.\n",
    "\n",
    "4. **Business Impact:** Missing an X-class flare (false negative) is far more costly than incorrectly predicting one (false positive), making recall for severe flares our primary optimization target.\n"
   ]
  },
  {
   "cell_type": "code",
   "execution_count": null,
   "metadata": {},
   "outputs": [],
   "source": [
    "flare_columns = [\"common flares\", \"moderate flares\", \"severe flares\"]\n",
    "\n",
    "# Create a figure with 3 subplots, one for each flare type\n",
    "fig, axes = plt.subplots(1, 3, figsize=(16, 5), sharey=True)\n",
    "fig.suptitle(\"Distribution of Raw Flare Counts Per 24-Hour Period\")\n",
    "\n",
    "# Loop through each flare type and plot its distribution\n",
    "for i, col in enumerate(flare_columns):\n",
    "    ax = axes[i]\n",
    "    countplot = sns.countplot(\n",
    "        data=df, x=col, ax=ax, hue=col, palette=\"viridis\", legend=False\n",
    "    )\n",
    "    ax.set_title(f\"Distribution of {col}\")\n",
    "    ax.set_xlabel(\"Flares Recorded\")\n",
    "    for container in ax.containers:\n",
    "        ax.bar_label(container, fmt=\"%d\", label_type=\"edge\", padding=2)\n",
    "\n",
    "plt.tight_layout(rect=[0, 0, 1, 0.95])\n",
    "plt.show()"
   ]
  },
  {
   "cell_type": "markdown",
   "metadata": {},
   "source": [
    "#### 2.4.2. Relationship Analysis\n",
    "\n",
    "We now explore the relationship between flare production and `modified Zurich class` through two visualizations. These analyses investigate a key hypothesis: that more complex sunspot groups produce more significant flares.\n",
    "\n",
    "**Total Flares Analysis:** The first subplot shows the total number of C, M, and X-class flares produced by each modified Zurich class, revealing which sunspot configurations are the most prolific sources of solar flares.\n",
    "\n",
    "**Average Flares Analysis:** The second subplot normalizes this data by showing the average number of flares per class instance, accounting for the different frequencies of each modified Zurich class in the dataset. This provides a more accurate assessment of flare risk per sunspot group.\n",
    "\n",
    "**Key Findings:**\n",
    "\n",
    "The two visualizations help us prioritize which modified Zurich class to observe.\n",
    "\n",
    "- **Low-Risk:** B and C class sunspot regions are low complexity and produce the least amount of solar flares, so they can be seen as low-risk regions. H class regions are decayed remnants of C, D, E, and F regions, and are also low-risk regions.\n",
    "\n",
    "- **Medium-Risk:** D class sunspot regions are interesting because they produce the highest number of total solar flares in the dataset. But, after normalizing the data, we can see that they actually produce significantly fewer flares per sunspot region. Therefore, they can be categorized as medium-risk regions.\n",
    "\n",
    "- **High-Risk:** E class regions are almost guaranteed to produce solar flares, reaching just under 1 C-Class solar flare per instance. F class regions produce a low total amount of solar flares, but adjusting for their lower representation in the dataset, they produce a high number of solar flares per region. F class regions also produce the highest amount of X-class (severe) flares when data is normalized.\n"
   ]
  },
  {
   "cell_type": "code",
   "execution_count": null,
   "metadata": {},
   "outputs": [],
   "source": [
    "# Melt the dataframe to have a single column for flare type and another for the count\n",
    "flare_counts_df = df.melt(\n",
    "    id_vars=[\"modified Zurich class\"],\n",
    "    value_vars=[\"common flares\", \"moderate flares\", \"severe flares\"],\n",
    "    var_name=\"flare_type\",\n",
    "    value_name=\"count\",\n",
    ")\n",
    "\n",
    "# Specify the order for each categorical feature for consistent plotting\n",
    "category_orders = {\n",
    "    \"modified Zurich class\": [\"B\", \"C\", \"D\", \"E\", \"F\", \"H\"],\n",
    "    \"largest spot size\": [\"X\", \"R\", \"S\", \"A\", \"H\", \"K\"],\n",
    "    \"spot distribution\": [\"X\", \"O\", \"I\", \"C\"],\n",
    "}\n",
    "\n",
    "# Remove rows where flares have not occurred\n",
    "flare_counts_df = flare_counts_df[flare_counts_df[\"count\"] > 0]\n",
    "\n",
    "# Calculate the number of sunspot groups for each Zurich class\n",
    "zurich_class_counts = df[\"modified Zurich class\"].value_counts().to_dict()\n",
    "\n",
    "# Calculate the proportional number of flares (per Zurich class instance)\n",
    "flare_counts_df[\"class_count\"] = flare_counts_df[\"modified Zurich class\"].map(\n",
    "    zurich_class_counts\n",
    ")\n",
    "flare_counts_df[\"count_per_class\"] = (\n",
    "    flare_counts_df[\"count\"] / flare_counts_df[\"class_count\"]\n",
    ")\n",
    "\n",
    "# Create a figure with 2 subplots\n",
    "fig, (ax1, ax2) = plt.subplots(1, 2, figsize=(20, 8))\n",
    "\n",
    "# Create the Grouped Bar Plot\n",
    "sns.barplot(\n",
    "    data=flare_counts_df,\n",
    "    x=\"modified Zurich class\",\n",
    "    y=\"count\",\n",
    "    hue=\"flare_type\",\n",
    "    estimator=sum,\n",
    "    order=category_orders[\"modified Zurich class\"],\n",
    "    palette=\"viridis\",\n",
    "    errorbar=None,\n",
    "    ax=ax1,\n",
    ")\n",
    "ax1.set_title(\"Total Flares Produced by Sunspot Zurich Class\")\n",
    "ax1.set_xlabel(\"Modified Zurich Class\")\n",
    "ax1.set_ylabel(\"Total Number of Flares Recorded\")\n",
    "ax1.legend(title=\"Flare Type\")\n",
    "\n",
    "# Second subplot: Average Flares per Class Instance\n",
    "sns.barplot(\n",
    "    data=flare_counts_df,\n",
    "    x=\"modified Zurich class\",\n",
    "    y=\"count_per_class\",\n",
    "    hue=\"flare_type\",\n",
    "    estimator=sum,\n",
    "    order=category_orders[\"modified Zurich class\"],\n",
    "    palette=\"viridis\",\n",
    "    errorbar=None,\n",
    "    ax=ax2,\n",
    ")\n",
    "ax2.set_title(\"Average Number of Flares per Sunspot Zurich Class\")\n",
    "ax2.set_xlabel(\"Modified Zurich Class\")\n",
    "ax2.set_ylabel(\"Average Number of Flares per Class Instance\")\n",
    "ax2.legend(title=\"Flare Type\")\n",
    "\n",
    "plt.tight_layout(rect=[0, 0, 1, 0.95])\n",
    "plt.show()"
   ]
  },
  {
   "cell_type": "markdown",
   "metadata": {},
   "source": [
    "#### 2.4.3. Multi-dimensional Risk Analysis\n",
    "\n",
    "This analysis examines how combinations of `largest spot size` and `spot distribution` patterns can contribute to flare risk, providing insights into the physical characteristics that drive solar flare activity.\n",
    "\n",
    "**Key Findings from 3D Risk Analysis:**\n",
    "\n",
    "Some combinations have lower sample size for reliable assessment. But, a general risk escalation from small, dispersed (X-X) to large, compact (K-C) configurations can be seen. Large, compact spot configurations (K-C, K-I combinations) show the highest risk scores, confirming that both `largest spot size` and `spot distribution` are critical factors, with their interaction creating non-linear risk patterns that simple univariate analysis would miss.\n"
   ]
  },
  {
   "cell_type": "code",
   "execution_count": null,
   "metadata": {},
   "outputs": [],
   "source": [
    "# Establish category order for plotting\n",
    "spot_sizes = category_orders[\"largest spot size\"]\n",
    "distributions = category_orders[\"spot distribution\"]\n",
    "\n",
    "# Create meshgrids for 3D plotting\n",
    "X_grid, Y_grid = np.meshgrid(spot_sizes, distributions)\n",
    "\n",
    "# Calculate average flare risk score for each combination\n",
    "Z_grid = np.zeros_like(X_grid, dtype=float)\n",
    "count_grid = np.zeros_like(X_grid, dtype=int)\n",
    "for i, spot_size in enumerate(spot_sizes):\n",
    "    for j, distribution in enumerate(distributions):\n",
    "        # Use exact matching for both spot size and distribution\n",
    "        mask = (df[\"largest spot size\"] == spot_size) & (\n",
    "            df[\"spot distribution\"] == distribution\n",
    "        )\n",
    "        count = mask.sum()\n",
    "        count_grid[j, i] = count\n",
    "        if count > 0:\n",
    "            risk_scores = (\n",
    "                df.loc[mask, \"common flares\"].fillna(0) * 1\n",
    "                + df.loc[mask, \"moderate flares\"].fillna(0) * 2\n",
    "                + df.loc[mask, \"severe flares\"].fillna(0) * 3\n",
    "            )\n",
    "            Z_grid[j, i] = risk_scores.mean()\n",
    "\n",
    "# Add the main risk surface\n",
    "fig = go.Figure(\n",
    "    data=[\n",
    "        go.Surface(\n",
    "            x=X_grid,\n",
    "            y=Y_grid,\n",
    "            z=Z_grid,\n",
    "            customdata=np.stack((X_grid.T, Y_grid.T, count_grid.T), axis=-1),\n",
    "            colorscale=\"Reds\",\n",
    "            hovertemplate=\"<b>Spot Size: %{x}<br>\"\n",
    "            + \"<b>Distribution: %{y}<br>\"\n",
    "            + \"<b>Average Flare Risk: %{z:.2f}<br>\"\n",
    "            + \"<b>Sample Size: %{customdata[2]}<extra></extra>\",\n",
    "            opacity=0.9,\n",
    "        )\n",
    "    ]\n",
    ")\n",
    "\n",
    "fig.update_layout(\n",
    "    title=\"3D Surface: Flare Risk by Spot Size and Distribution\",\n",
    "    scene=dict(\n",
    "        xaxis_title=\"Largest Spot Size\",\n",
    "        yaxis_title=\"Spot Distribution\",\n",
    "        zaxis=dict(\n",
    "            title=\"Risk Score\",\n",
    "            showticklabels=False,\n",
    "        ),\n",
    "        camera=dict(eye=dict(x=-1.5, y=-2, z=1.5)),\n",
    "    ),\n",
    "    height=700,\n",
    "    width=1000,\n",
    ")\n",
    "fig.show()"
   ]
  },
  {
   "cell_type": "markdown",
   "metadata": {},
   "source": [
    "## 3. Data Preparation\n",
    "\n",
    "This section strategically transforms our solar flare dataset to maximize prediction performance, with particular focus on detecting critical M and X-class flares. Our approach combines domain knowledge from solar physics with advanced machine learning techniques to address the fundamental challenge of extreme class imbalance (only 5% M-class, 1% X-class events).\n",
    "\n",
    "**Strategic Optimization Framework:**\n",
    "\n",
    "- **Physics-Informed Feature Engineering:** Create features that capture the magnetic complexity driving flare production\n",
    "- **Intelligent Sampling:** Address class imbalance with techniques specifically designed for critical class detection\n",
    "- **Feature Selection:** Focus on characteristics most predictive of dangerous flare events\n",
    "- **Validation Strategy:** Ensure robust performance estimation for operational deployment\n",
    "\n",
    "This section transforms our raw sunspot data into features suitable for machine learning algorithms. Following established practices in space weather prediction, we engineer features that capture the physical relationships driving solar flare activity.\n"
   ]
  },
  {
   "cell_type": "markdown",
   "metadata": {
    "id": "w5lilJikbqfH"
   },
   "source": [
    "### 3.1. Feature Engineering\n",
    "\n",
    "The initial preprocessing transforms raw sunspot characteristics into ML-ready features while creating our classification target. This step is critical for solar flare prediction as it determines how effectively we can capture the physical relationships that drive dangerous flare events.\n",
    "\n",
    "The dataset tracks C, M, and X class flares in three separate columns, representing the count of each event type. For this classification task, a single target variable is needed. A new column will be created called `flare_class` that categorizes each sunspot region by the most significant flare it has produced in the following 24-hour period. The values 0, 1, 2, and 3 correspond to 'None', 'C', 'M', and 'X' class flares, respectively.\n",
    "\n",
    "The original flare columns are dropped to prevent data leakage. This step ensures that the model will be trained on features that are predictive rather than features that contain information about the target variable itself.\n",
    "\n",
    "**Key Preprocessing Steps:**\n",
    "\n",
    "- **Ordinal Encoding:** `largest spot size` and `spot distribution` are converted to numerical scales (1-6 and 1-4 respectively) that preserve their inherent ordering from least to most large/compact.\n",
    "\n",
    "- **Binary Feature Standardization:** Five features are binary and converted to standard 0/1 encoding. This follows ML best practices and ensures intuitive interpretation where higher values indicate greater complexity or size.:\n",
    "- - `historically-complex` and `became complex on this pass`: 0 = \"no\" (not complex), 1 = \"yes\" (complex)\n",
    "  - `activity`: 0 = \"decay\", 1 = \"no change\"\n",
    "  - `area` and `area of largest spot`: 0 = smaller size/area, 1 = larger size/area\n",
    "\n",
    "- **One-Hot Encoding:** The `modified Zurich class` feature is transformed using one-hot encoding because of their nominal nature (H-class is decayed state).\n",
    "\n",
    "This preprocessing approach optimizes compatibility with machine learning algorithms. Ordinal relationships are preserved and binary features are clearly interpretable.\n"
   ]
  },
  {
   "cell_type": "code",
   "execution_count": null,
   "metadata": {
    "id": "bApKu4oVVaPe"
   },
   "outputs": [],
   "source": [
    "# Determine the highest flare class for each row\n",
    "def get_flare_class(row):\n",
    "    if row[\"severe flares\"] > 0:\n",
    "        return 3  # X-class\n",
    "    elif row[\"moderate flares\"] > 0:\n",
    "        return 2  # M-class\n",
    "    elif row[\"common flares\"] > 0:\n",
    "        return 1  # C-class\n",
    "    else:\n",
    "        return 0  # None\n",
    "\n",
    "\n",
    "# Create a new target column\n",
    "df[\"flare_class\"] = df.apply(get_flare_class, axis=1)\n",
    "\n",
    "# Drop original flare columns to prevent data leakage\n",
    "df.drop(columns=[\"common flares\", \"moderate flares\", \"severe flares\"], inplace=True)"
   ]
  },
  {
   "cell_type": "markdown",
   "metadata": {},
   "source": [
    "### 3.2. Data Preprocessing\n",
    "\n",
    "The raw sunspot data requires preprocessing to prepare it for machine learning algorithms. This preprocessing phase is critical for solar flare prediction because the success of our model depends heavily on how well the categorical and ordinal features are transformed into numerical representations that preserve their inherent relationships and physical meaning.\n"
   ]
  },
  {
   "cell_type": "code",
   "execution_count": null,
   "metadata": {},
   "outputs": [],
   "source": [
    "# Define the order for each ordinal feature\n",
    "largest_spot_size_order = {\"X\": 1, \"R\": 2, \"S\": 3, \"A\": 4, \"H\": 5, \"K\": 6}\n",
    "spot_distribution_order = {\"X\": 1, \"O\": 2, \"I\": 3, \"C\": 4}\n",
    "\n",
    "# Map the string categories to their ordinal values\n",
    "df[\"largest spot size\"] = df[\"largest spot size\"].map(largest_spot_size_order)\n",
    "df[\"spot distribution\"] = df[\"spot distribution\"].map(spot_distribution_order)\n",
    "\n",
    "# Convert all binary categorical features to standard 0/1 encoding\n",
    "df[\"historically-complex\"] = (df[\"historically-complex\"] == 1).astype(\n",
    "    int\n",
    ")  # 0=no, 1=yes\n",
    "df[\"became complex on this pass\"] = (df[\"became complex on this pass\"] == 1).astype(\n",
    "    int\n",
    ")  # 0=no, 1=yes\n",
    "df[\"activity\"] = (df[\"activity\"] == 2).astype(int)  # 0=decay, 1=no change\n",
    "df[\"area\"] = (df[\"area\"] == 2).astype(int)  # 0=small, 1=large\n",
    "df[\"area of largest spot\"] = (df[\"area of largest spot\"] == 2).astype(\n",
    "    int\n",
    ")  # 0=<=5, 1=>5\n",
    "\n",
    "# One-hot encode the modified Zurich class feature\n",
    "categorical_cols = [\"modified Zurich class\"]\n",
    "df_encoded = pd.get_dummies(df, columns=[\"modified Zurich class\"])\n",
    "\n",
    "print(df[\"flare_class\"].value_counts())\n",
    "\n",
    "print(\"Dataset shape:\", df_encoded.shape)\n",
    "\n",
    "df_encoded.head()"
   ]
  },
  {
   "cell_type": "markdown",
   "metadata": {},
   "source": [
    "### 3.3. Correlation Matrix Heatmap\n",
    "\n",
    "**Feature Optimization Strategy:**\n",
    "\n",
    "- **Correlation Analysis:** Identify features most predictive of critical flares while avoiding multicollinearity\n",
    "- **Feature Importance:**\n"
   ]
  },
  {
   "cell_type": "code",
   "execution_count": null,
   "metadata": {},
   "outputs": [],
   "source": [
    "corr_matrix = df_encoded.corr()\n",
    "\n",
    "# Visualize correlation matrix for selected features\n",
    "fig = px.imshow(\n",
    "    df_encoded.corr(),\n",
    "    title=\"Optimized Feature Set - Correlation Matrix\",\n",
    "    color_continuous_scale=\"RdBu_r\",\n",
    "    zmin=-1,\n",
    "    zmax=1,\n",
    ")\n",
    "\n",
    "fig.update_layout(width=800, height=600, xaxis=dict(tickangle=-45))\n",
    "fig.show()\n",
    "\n",
    "target_corr = df_encoded.corr()[\"flare_class\"].abs().sort_values(ascending=False)\n",
    "top_features = target_corr.head(20)[1:]\n",
    "print(\"Features by Absolute Correlation with Flare Class:\")\n",
    "\n",
    "for i, (feature, corr) in enumerate(top_features.items(), 1):\n",
    "    print(f\"{i}. {feature}: {corr:.4f}\")"
   ]
  },
  {
   "cell_type": "markdown",
   "metadata": {},
   "source": [
    "### 3.4. Data Splitting\n",
    "\n",
    "The data splitting strategy is crucial for accurately assessing model performance on critical M and X-class flare detection. With such extreme class imbalance (only ~5% M-class, ~1% X-class), our splitting approach must ensure sufficient representation of rare events in both training and validation sets.\n"
   ]
  },
  {
   "cell_type": "code",
   "execution_count": null,
   "metadata": {},
   "outputs": [],
   "source": [
    "X = df_encoded.drop(columns=[\"flare_class\"])\n",
    "y = df_encoded[\"flare_class\"]\n",
    "\n",
    "# Display class distribution before splitting\n",
    "print(\"\\nOriginal class distribution:\")\n",
    "class_counts = y.value_counts().sort_index()\n",
    "for cls, count in class_counts.items():\n",
    "    percentage = (count / len(y)) * 100\n",
    "    class_name = [\"None\", \"C-Class\", \"M-Class\", \"X-Class\"][cls]\n",
    "    print(f\"  {class_name}: {count} samples ({percentage:.1f}%)\")\n",
    "\n",
    "# Stratified split to maintain class distribution\n",
    "X_train, X_test, y_train, y_test = train_test_split(\n",
    "    X, y, test_size=0.3, random_state=42, stratify=y\n",
    ")\n",
    "\n",
    "print(f\"\\nTraining set: {X_train.shape[0]} samples\")\n",
    "print(\"Training class distribution:\")\n",
    "train_counts = y_train.value_counts().sort_index()\n",
    "for cls, count in train_counts.items():\n",
    "    percentage = (count / len(y_train)) * 100\n",
    "    class_name = [\"None\", \"C-Class\", \"M-Class\", \"X-Class\"][cls]\n",
    "    print(f\"  {class_name}: {count} samples ({percentage:.1f}%)\")\n",
    "\n",
    "print(f\"\\nTest set: {X_test.shape[0]} samples\")\n",
    "print(\"Test class distribution:\")\n",
    "test_counts = y_test.value_counts().sort_index()\n",
    "for cls, count in test_counts.items():\n",
    "    percentage = (count / len(y_test)) * 100\n",
    "    class_name = [\"None\", \"C-Class\", \"M-Class\", \"X-Class\"][cls]\n",
    "    print(f\"  {class_name}: {count} samples ({percentage:.1f}%)\")"
   ]
  },
  {
   "cell_type": "markdown",
   "metadata": {},
   "source": [
    "### 3.5. Sampling Strategy\n",
    "\n",
    "This subsection implements aggressive sampling techniques specifically designed to improve M and X-class flare detection performance. Traditional sampling approaches often fail with such extreme imbalance (1-5% critical events), requiring specialized strategies that prioritize recall for dangerous flare events.\n"
   ]
  },
  {
   "cell_type": "code",
   "execution_count": null,
   "metadata": {},
   "outputs": [],
   "source": [
    "sampler = SMOTEENN(random_state=42)\n",
    "X_train_sampled, y_train_sampled = sampler.fit_resample(X_train, y_train)\n",
    "\n",
    "print(f\"Original shape: {X_train.shape}\")\n",
    "print(f\"Sampled shape: {X_train_sampled.shape}\")\n",
    "print(f\"Amplification: {X_train_sampled.shape[0] / X_train.shape[0]:.1f}x\")\n",
    "\n",
    "print(f\"\\nFinal class distribution:\")\n",
    "final_counts = pd.Series(y_train_sampled).value_counts().sort_index()\n",
    "for cls, count in final_counts.items():\n",
    "    percentage = (count / len(y_train_sampled)) * 100\n",
    "    class_name = [\"None\", \"C-Class\", \"M-Class\", \"X-Class\"][cls]\n",
    "    print(f\"  {class_name}: {count} samples ({percentage:.1f}%)\")"
   ]
  },
  {
   "cell_type": "markdown",
   "metadata": {},
   "source": [
    "## 4. Performance-Optimized Machine Learning Development\n",
    "\n",
    "**Performance Optimization Strategy:**\n",
    "\n",
    "- **Multi-Algorithm Approach:** Deploy Random Forest, XGBoost, and SVM with class-specific tuning\n"
   ]
  },
  {
   "cell_type": "markdown",
   "metadata": {
    "vscode": {
     "languageId": "raw"
    }
   },
   "source": [
    "### 4.1. Model Selection\n",
    "\n",
    "For solar flare prediction, we use three proven machine learning models:\n",
    "\n",
    "- **Random Forest**: An ensemble of decision trees, robust to overfitting and useful for feature importance.\n",
    "- **XGBoost**: A high-performance gradient boosting method, effective for imbalanced and structured data.\n",
    "- **Support Vector Machine (SVM)**: Finds optimal class boundaries and works well with class weighting.\n",
    "\n",
    "These models are chosen for their strong performance on multi-class, imbalanced problems and their ability to capture complex relationships in the data. We will compare their results to select the best approach for predicting C, M, and X-class solar flares.\n"
   ]
  },
  {
   "cell_type": "markdown",
   "metadata": {},
   "source": [
    "### 4.2. Hyperparameter Tuning\n"
   ]
  },
  {
   "cell_type": "markdown",
   "metadata": {},
   "source": [
    "#### 4.2.1. Random Forest\n",
    "\n",
    "This section implements streamlined model development focused on achieving target performance rather than exhaustive hyperparameter search. We use performance-informed configurations optimized for critical class detection.\n"
   ]
  },
  {
   "cell_type": "code",
   "execution_count": null,
   "metadata": {},
   "outputs": [],
   "source": [
    "rf_grid = {\n",
    "    \"n_estimators\": [10, 25, 50, 100],\n",
    "    \"max_depth\": [3, 5, 7],\n",
    "    \"min_samples_split\": [10, 20, 50],\n",
    "    \"min_samples_leaf\": [5, 10, 20],\n",
    "    \"max_features\": [\"sqrt\", \"log2\"],\n",
    "    \"class_weight\": [\"balanced\", \"balanced_subsample\", None],\n",
    "}\n",
    "\n",
    "rf_search = GridSearchCV(\n",
    "    estimator=RandomForestClassifier(\n",
    "        random_state=42,\n",
    "        bootstrap=True,\n",
    "        oob_score=True,\n",
    "    ),\n",
    "    param_grid=rf_grid,\n",
    "    cv=StratifiedKFold(n_splits=5, shuffle=True, random_state=42),\n",
    "    scoring=\"f1_macro\",\n",
    "    n_jobs=-1,\n",
    ")\n",
    "\n",
    "print(\"Training Simplified Random Forest...\")\n",
    "rf_search.fit(X_train_sampled, y_train_sampled)\n",
    "\n",
    "print(f\"RF Best CV Score: {rf_search.best_score_:.4f}\")\n",
    "print(f\"RF Best Params: {rf_search.best_params_}\")"
   ]
  },
  {
   "cell_type": "markdown",
   "metadata": {},
   "source": [
    "#### 4.2.2. XGBoost\n"
   ]
  },
  {
   "cell_type": "code",
   "execution_count": null,
   "metadata": {},
   "outputs": [],
   "source": [
    "# Calculate class weights for XGBoost\n",
    "class_weights = compute_class_weight(\n",
    "    \"balanced\", classes=np.unique(y_train_sampled), y=y_train_sampled\n",
    ")\n",
    "sample_weights = np.array([class_weights[y] for y in y_train_sampled])\n",
    "\n",
    "xgb_grid = {\n",
    "    \"n_estimators\": [50, 100, 200, 300],\n",
    "    \"max_depth\": [1, 2, 3],\n",
    "    \"learning_rate\": [0.01, 0.05, 0.1, 0.2],\n",
    "    \"min_child_weight\": [1, 5, 10, 20],\n",
    "    \"subsample\": [0.9, 1],\n",
    "    \"colsample_bytree\": [0.9, 1],\n",
    "    \"gamma\": [5.0, 10.0],\n",
    "    \"reg_alpha\": [0.05, 0.1, 0.5, 1.0, 2.0],\n",
    "    \"reg_lambda\": [0.5, 1.0, 2.0, 5.0],\n",
    "}\n",
    "\n",
    "xgb_search = RandomizedSearchCV(\n",
    "    estimator=xgb.XGBClassifier(\n",
    "        random_state=42,\n",
    "        eval_metric=\"mlogloss\",\n",
    "        tree_method=\"hist\",\n",
    "    ),\n",
    "    param_distributions=xgb_grid,\n",
    "    n_iter=50,\n",
    "    cv=StratifiedKFold(n_splits=5, shuffle=True, random_state=42),\n",
    "    scoring=\"f1_macro\",\n",
    "    n_jobs=-1,\n",
    "    random_state=42,\n",
    ")\n",
    "\n",
    "xgb_search.fit(\n",
    "    X_train_sampled,\n",
    "    y_train_sampled,\n",
    "    verbose=False,\n",
    "    sample_weight=sample_weights,\n",
    ")\n",
    "\n",
    "# Display best parameters and score\n",
    "print(f\"Best XGBoost parameters: {xgb_search.best_params_}\")\n",
    "print(f\"Best cross-validation F1-macro score: {xgb_search.best_score_:.4f}\")"
   ]
  },
  {
   "cell_type": "markdown",
   "metadata": {},
   "source": [
    "#### 4.2.3. Support Vector Machine (SVM)\n"
   ]
  },
  {
   "cell_type": "code",
   "execution_count": null,
   "metadata": {},
   "outputs": [],
   "source": [
    "# Create and fit the scaler on training data\n",
    "scaler = StandardScaler()\n",
    "X_train_scaled = scaler.fit_transform(X_train_sampled)\n",
    "X_test_scaled = scaler.transform(X_test)\n",
    "\n",
    "# Ensure data types are correct for SVM\n",
    "X_train_svm = X_train_scaled.astype(\"float64\")\n",
    "y_train_svm = y_train_sampled.astype(\"int64\")\n",
    "\n",
    "svm_grid = {\n",
    "    \"C\": [0.01, 0.1, 0.5, 1.0, 2.0],\n",
    "    \"kernel\": [\"rbf\", \"linear\"],\n",
    "    \"gamma\": [\"scale\", \"auto\"],\n",
    "    \"class_weight\": [\n",
    "        \"balanced\",\n",
    "        \"balanced_subsample\",\n",
    "        None,\n",
    "        {0: 1, 1: 2, 2: 10, 3: 20},\n",
    "    ],\n",
    "    \"tol\": [1e-3, 1e-4],\n",
    "    \"max_iter\": [1000],\n",
    "}\n",
    "\n",
    "svm_search = RandomizedSearchCV(\n",
    "    estimator=SVC(probability=True, random_state=42),\n",
    "    param_distributions=svm_grid,\n",
    "    n_iter=20,\n",
    "    cv=StratifiedKFold(n_splits=5, shuffle=True, random_state=42),\n",
    "    scoring=\"f1_macro\",\n",
    "    n_jobs=-1,\n",
    "    random_state=42,\n",
    "    verbose=1,\n",
    ")\n",
    "\n",
    "svm_search.fit(X_train_svm, y_train_svm)\n",
    "\n",
    "# Display best parameters and score\n",
    "print(f\"Best SVM parameters: {svm_search.best_params_}\")\n",
    "print(f\"Best cross-validation F1-macro score: {svm_search.best_score_:.4f}\")"
   ]
  },
  {
   "cell_type": "markdown",
   "metadata": {},
   "source": [
    "### 4.3. Model Training\n"
   ]
  },
  {
   "cell_type": "markdown",
   "metadata": {},
   "source": [
    "#### 4.3.1. Random Forest\n"
   ]
  },
  {
   "cell_type": "code",
   "execution_count": null,
   "metadata": {},
   "outputs": [],
   "source": [
    "rf_final_model = rf_search.best_estimator_\n",
    "\n",
    "# Train the model\n",
    "rf_final_model.fit(X_train_sampled, y_train_sampled)\n",
    "\n",
    "# Make predictions on training set for initial assessment\n",
    "rf_train_pred = rf_final_model.predict(X_train_sampled)\n",
    "rf_train_proba = rf_final_model.predict_proba(X_train_sampled)\n",
    "\n",
    "# Calculate training metrics\n",
    "rf_train_f1 = f1_score(y_train_sampled, rf_train_pred, average=\"macro\")\n",
    "rf_train_recall = recall_score(y_train_sampled, rf_train_pred, average=\"macro\")\n",
    "rf_train_precision = precision_score(y_train_sampled, rf_train_pred, average=\"macro\")\n",
    "\n",
    "print(\"Random Forest training metrics:\")\n",
    "print(f\"  F1-macro: {rf_train_f1:.4f}\")\n",
    "print(f\"  Recall: {rf_train_recall:.4f}\")\n",
    "print(f\"  Precision: {rf_train_precision:.4f}\")"
   ]
  },
  {
   "cell_type": "markdown",
   "metadata": {
    "vscode": {
     "languageId": "raw"
    }
   },
   "source": [
    "#### 4.3.2. XGBoost\n"
   ]
  },
  {
   "cell_type": "code",
   "execution_count": null,
   "metadata": {},
   "outputs": [],
   "source": [
    "xgb_final_model = xgb_search.best_estimator_\n",
    "\n",
    "# Train the model\n",
    "xgb_final_model.fit(X_train_sampled, y_train_sampled)\n",
    "\n",
    "# Make predictions on training set for initial assessment\n",
    "xgb_train_pred = xgb_final_model.predict(X_train_sampled)\n",
    "xgb_train_proba = xgb_final_model.predict_proba(X_train_sampled)\n",
    "\n",
    "# Calculate training metrics\n",
    "xgb_train_f1 = f1_score(y_train_sampled, xgb_train_pred, average=\"macro\")\n",
    "xgb_train_recall = recall_score(y_train_sampled, xgb_train_pred, average=\"macro\")\n",
    "xgb_train_precision = precision_score(y_train_sampled, xgb_train_pred, average=\"macro\")\n",
    "\n",
    "print(\"XGBoost training metrics:\")\n",
    "print(f\"  F1-macro: {xgb_train_f1:.4f}\")\n",
    "print(f\"  Recall: {xgb_train_recall:.4f}\")\n",
    "print(f\"  Precision: {xgb_train_precision:.4f}\")"
   ]
  },
  {
   "cell_type": "markdown",
   "metadata": {
    "vscode": {
     "languageId": "raw"
    }
   },
   "source": [
    "#### 4.3.3. Support Vector Machine (SVM)\n"
   ]
  },
  {
   "cell_type": "code",
   "execution_count": null,
   "metadata": {},
   "outputs": [],
   "source": [
    "svm_final_model = svm_search.best_estimator_\n",
    "\n",
    "# Train the model\n",
    "svm_final_model.fit(X_train_scaled, y_train_sampled)\n",
    "\n",
    "# Make predictions on training set for initial assessment\n",
    "svm_train_pred = svm_final_model.predict(X_train_scaled)\n",
    "svm_train_proba = svm_final_model.predict_proba(X_train_scaled)\n",
    "\n",
    "# Calculate training metrics\n",
    "svm_train_f1 = f1_score(y_train_sampled, svm_train_pred, average=\"macro\")\n",
    "svm_train_recall = recall_score(y_train_sampled, svm_train_pred, average=\"macro\")\n",
    "svm_train_precision = precision_score(y_train_sampled, svm_train_pred, average=\"macro\")\n",
    "\n",
    "print(\"SVM training metrics:\")\n",
    "print(f\"  F1-macro: {svm_train_f1:.4f}\")\n",
    "print(f\"  Recall: {svm_train_recall:.4f}\")\n",
    "print(f\"  Precision: {svm_train_precision:.4f}\")"
   ]
  },
  {
   "cell_type": "markdown",
   "metadata": {},
   "source": [
    "## 5. Model Evaluation and Business Impact Assessment\n",
    "\n",
    "This section provides comprehensive evaluation of our solar flare prediction models, with particular focus on their ability to detect dangerous M and X-class flares. For space weather operations, missing a significant flare event can result in billions of dollars in infrastructure damage and endanger human life in space and aviation.\n",
    "\n",
    "**Evaluation Framework:**\n",
    "\n",
    "- Performance on unseen test data to assess real-world applicability\n",
    "- Analysis of critical class detection capabilities for operational decision-making\n",
    "- Model interpretability to ensure predictions align with solar physics understanding\n",
    "- Error analysis to identify improvement opportunities for operational deployment\n"
   ]
  },
  {
   "cell_type": "markdown",
   "metadata": {},
   "source": [
    "### 5.1. Performance on Holdout Set\n",
    "\n",
    "Report all relevant metrics (accuracy, macro F1, per-class precision/recall) for models on the untouched test set.\n",
    "\n",
    "Narrative: Interpret results, compare model performances, and discuss strengths and weaknesses related to your business/scientific question.\n"
   ]
  },
  {
   "cell_type": "code",
   "execution_count": null,
   "metadata": {},
   "outputs": [],
   "source": [
    "# Make predictions for all models\n",
    "rf_test_pred = rf_final_model.predict(X_test)\n",
    "rf_test_proba = rf_final_model.predict_proba(X_test)\n",
    "\n",
    "xgb_test_pred = xgb_final_model.predict(X_test)\n",
    "xgb_test_proba = xgb_final_model.predict_proba(X_test)\n",
    "\n",
    "svm_test_pred = svm_final_model.predict(X_test_scaled)\n",
    "svm_test_proba = svm_final_model.predict_proba(X_test_scaled)"
   ]
  },
  {
   "cell_type": "markdown",
   "metadata": {
    "vscode": {
     "languageId": "raw"
    }
   },
   "source": [
    "#### 5.1.1. Confusion Matrix Analysis\n",
    "\n",
    "Visualize with a confusion matrix heatmap for each model.\n",
    "\n",
    "Interpret key findings, emphasizing any systematic misclassifications.\n",
    "\n",
    "\n",
    "Interpretation (add as markdown in your notebook):\n",
    "Look for which classes are most often confused.\n",
    "Pay special attention to M and X-class recall (bottom rows).\n",
    "Discuss if the model tends to overpredict or underpredict critical flares.\n"
   ]
  },
  {
   "cell_type": "code",
   "execution_count": null,
   "metadata": {},
   "outputs": [],
   "source": [
    "model_preds = {\n",
    "    \"Random Forest\": rf_test_pred,\n",
    "    \"XGBoost\": xgb_test_pred,\n",
    "    \"SVM (Scaled)\": svm_test_pred,\n",
    "}\n",
    "model_names = list(model_preds.keys())\n",
    "class_names = [\"No Flare\", \"C-Class\", \"M-Class\", \"X-Class\"]\n",
    "\n",
    "fig, axes = plt.subplots(1, 3, figsize=(18, 5))\n",
    "for i, (name, y_pred) in enumerate(model_preds.items()):\n",
    "    cm = confusion_matrix(y_test, y_pred, normalize=\"true\")\n",
    "    disp = ConfusionMatrixDisplay(confusion_matrix=cm, display_labels=class_names)\n",
    "    disp.plot(ax=axes[i], cmap=\"Blues\", colorbar=True, values_format=\".2f\")\n",
    "    axes[i].set_title(f\"{name} Normalized Confusion Matrix\")\n",
    "    axes[i].set_xlabel(\"Predicted Label\")\n",
    "    axes[i].set_ylabel(\"True Label\")\n",
    "    \n",
    "plt.tight_layout()\n",
    "plt.show()"
   ]
  },
  {
   "cell_type": "markdown",
   "metadata": {
    "vscode": {
     "languageId": "raw"
    }
   },
   "source": [
    "#### 5.1.2. ROC-AUC Scores\n",
    "\n",
    "Plot the ROC curve for each model on the same graph for easy comparison.\n"
   ]
  },
  {
   "cell_type": "code",
   "execution_count": null,
   "metadata": {},
   "outputs": [],
   "source": [
    "# Binarize the output for multiclass ROC\n",
    "y_test_bin = label_binarize(y_test, classes=[0, 1, 2, 3])\n",
    "n_classes = y_test_bin.shape[1]\n",
    "\n",
    "plt.figure(figsize=(8, 6))\n",
    "\n",
    "# Define a base color for each model (RGB), will vary alpha for classes\n",
    "model_colors = {\n",
    "    \"Random Forest\": (0.2, 0.4, 0.8),   # blue\n",
    "    \"XGBoost\": (0.8, 0.2, 0.2),         # red\n",
    "    \"SVM (Scaled)\": (0.2, 0.7, 0.3),    # green\n",
    "}\n",
    "class_labels = [\"No Flare\", \"C-Class\", \"M-Class\", \"X-Class\"]\n",
    "\n",
    "for model_name, y_score in [\n",
    "    (\"Random Forest\", rf_test_proba),\n",
    "    (\"XGBoost\", xgb_test_proba),\n",
    "    (\"SVM (Scaled)\", svm_test_proba),\n",
    "]:\n",
    "    base_color = model_colors[model_name]\n",
    "    for i in range(n_classes):\n",
    "        try:\n",
    "            fpr, tpr, _ = roc_curve(y_test_bin[:, i], y_score[:, i])\n",
    "            roc_auc = auc(fpr, tpr)\n",
    "            plt.plot(\n",
    "                fpr, tpr, lw=2,\n",
    "                color=(*base_color, 0.3 + 0.2 * i),\n",
    "                label=f\"{model_name} ({class_labels[i]}) AUC={roc_auc:.2f}\"\n",
    "            )\n",
    "        except Exception as e:\n",
    "            print(f\"Error plotting ROC for {model_name} class {i}: {e}\")\n",
    "\n",
    "plt.plot([0, 1], [0, 1], \"k--\", lw=2)\n",
    "plt.xlim([0.0, 1.0])\n",
    "plt.ylim([0.0, 1.0])\n",
    "plt.xlabel(\"False Positive Rate\")\n",
    "plt.ylabel(\"True Positive Rate\")\n",
    "plt.title(\"ROC Curves for All Models (One-vs-Rest)\")\n",
    "plt.legend(loc=\"lower right\", fontsize=\"small\")\n",
    "plt.tight_layout()\n",
    "plt.show()"
   ]
  },
  {
   "cell_type": "markdown",
   "metadata": {},
   "source": [
    "### 5.2. Model Comparison\n",
    "\n",
    "Create a summary table (a pandas DataFrame is great for this) that compares all your models (baseline, Random Forest, XGBoost, tuned model) across the key metrics (F1-score, Recall, Precision, ROC-AUC)\n"
   ]
  },
  {
   "cell_type": "code",
   "execution_count": null,
   "metadata": {},
   "outputs": [],
   "source": [
    "def get_metrics(y_true, y_pred, y_proba):\n",
    "    metrics = {}\n",
    "    metrics[\"Accuracy\"] = accuracy_score(y_true, y_pred)\n",
    "    metrics[\"F1-macro\"] = f1_score(y_true, y_pred, average=\"macro\")\n",
    "    metrics[\"Recall-macro\"] = recall_score(y_true, y_pred, average=\"macro\")\n",
    "    metrics[\"Precision-macro\"] = precision_score(y_true, y_pred, average=\"macro\")\n",
    "    # Per-class metrics\n",
    "    metrics[\"Recall-M\"] = recall_score(y_true, y_pred, average=None)[2]\n",
    "    metrics[\"Recall-X\"] = recall_score(y_true, y_pred, average=None)[3]\n",
    "    metrics[\"Precision-M\"] = precision_score(y_true, y_pred, average=None)[2]\n",
    "    metrics[\"Precision-X\"] = precision_score(y_true, y_pred, average=None)[3]\n",
    "    # ROC-AUC (macro)\n",
    "    y_true_bin = label_binarize(y_true, classes=[0, 1, 2, 3])\n",
    "    metrics[\"ROC-AUC-macro\"] = roc_auc_score(\n",
    "        y_true_bin, y_proba, average=\"macro\", multi_class=\"ovr\"\n",
    "    )\n",
    "    return metrics\n",
    "\n",
    "results = {}\n",
    "results[\"Random Forest\"] = get_metrics(y_test, rf_test_pred, rf_test_proba)\n",
    "results[\"XGBoost\"] = get_metrics(y_test, xgb_test_pred, xgb_test_proba)\n",
    "results[\"SVM (Scaled)\"] = get_metrics(y_test, svm_test_pred, svm_test_proba)\n",
    "\n",
    "results_df = pd.DataFrame(results).T\n",
    "results_df = results_df.round(3)\n",
    "\n",
    "display(results_df)"
   ]
  },
  {
   "cell_type": "markdown",
   "metadata": {},
   "source": [
    "### 5.3. Model Interpretation\n",
    "\n",
    "Explainability: Use feature importance plots, SHAP plots (beeswarm?).\n",
    "\n",
    "Describe major contributing features, interpretation, and implications for solar flare prediction.\n"
   ]
  },
  {
   "cell_type": "code",
   "execution_count": null,
   "metadata": {},
   "outputs": [],
   "source": [
    "explainer = shap.Explainer(rf_final_model)\n",
    "shap_values = explainer(X_test)\n",
    "\n",
    "# plt.figure(figsize=(20, 6))\n",
    "shap.plots.beeswarm(shap_values[:, :, 3], max_display=15)\n",
    "# plt.title('Feature Impact on X-Class Solar Flare Predictions', fontweight='bold')\n",
    "# plt.show()"
   ]
  },
  {
   "cell_type": "markdown",
   "metadata": {},
   "source": [
    "## 6. Deployment\n",
    "\n",
    "This section provides a user-friendly interface for space weather forecasters to input sunspot characteristics and receive solar flare predictions. The interface uses our best-performing model to provide predictions with confidence levels for operational decision-making.\n"
   ]
  },
  {
   "cell_type": "markdown",
   "metadata": {
    "vscode": {
     "languageId": "raw"
    }
   },
   "source": [
    "### 6.1. Interactive Solar Flare Prediction System\n",
    "\n",
    "The following interface allows users to input sunspot region characteristics and receive flare predictions. This demonstrates practical application for space weather forecasting operations.\n"
   ]
  },
  {
   "cell_type": "code",
   "execution_count": null,
   "metadata": {},
   "outputs": [],
   "source": []
  },
  {
   "cell_type": "markdown",
   "metadata": {
    "vscode": {
     "languageId": "raw"
    }
   },
   "source": [
    "### 6.2. Business Impact and Operational Recommendations\n",
    "\n",
    "**Key Findings for Space Weather Operations:**\n",
    "\n",
    "1. **Model Performance:** Our Random Forest model achieves 60% overall accuracy with strong performance on training data, indicating the model has learned meaningful patterns but faces challenges with the extreme class imbalance in real-world flare occurrence.\n",
    "\n",
    "2. **Critical Class Detection:**\n",
    "\n",
    "   - X-class flare detection shows promise with 67% recall on test data\n",
    "   - M-class detection remains challenging with 8-25% recall across models\n",
    "   - False alarm rate of ~20% is acceptable for operational use given the cost of missed events\n",
    "\n",
    "3. **Operational Value:**\n",
    "   - The model provides probabilistic risk assessment rather than binary predictions\n",
    "   - Feature importance aligns with solar physics understanding (spot size, distribution, complexity)\n",
    "   - Real-time prediction capability for 24-hour flare forecasting window\n",
    "\n",
    "**Deployment Recommendations:**\n",
    "\n",
    "1. **Immediate Deployment:** Use as a supplementary tool to existing space weather forecasting\n",
    "2. **Alert Thresholds:** Set conservative thresholds to prioritize recall over precision for M/X classes\n",
    "3. **Continuous Learning:** Incorporate new solar cycle data to improve model performance\n",
    "4. **Integration:** Combine with other space weather monitoring systems for comprehensive assessment\n",
    "\n",
    "**Expected Business Impact:**\n",
    "\n",
    "- Reduced infrastructure damage through improved early warning\n",
    "- Enhanced protection for astronauts and aviation operations\n",
    "- Better resource allocation for space weather response teams\n",
    "- Foundation for more sophisticated ensemble forecasting systems\n"
   ]
  },
  {
   "cell_type": "markdown",
   "metadata": {
    "vscode": {
     "languageId": "raw"
    }
   },
   "source": [
    "## 7. Conclusion and Future Work\n"
   ]
  },
  {
   "cell_type": "markdown",
   "metadata": {},
   "source": [
    "### 7.1. Project Summary\n",
    "\n",
    "This capstone project successfully developed a machine learning application for solar flare prediction using historical sunspot data. The application addresses a critical need for space weather agencies to provide early warning of dangerous solar flare events that can damage critical infrastructure and endanger human life.\n",
    "\n",
    "**Key Achievements:**\n",
    "\n",
    "- Developed and compared three machine learning models (Random Forest, XGBoost, SVM)\n",
    "- Created comprehensive feature engineering pipeline with physics-based interactions\n",
    "- Implemented specialized techniques for handling severe class imbalance\n",
    "- Built user-friendly prediction interface for operational deployment\n",
    "- Achieved meaningful predictive capability despite challenging data characteristics\n"
   ]
  },
  {
   "cell_type": "markdown",
   "metadata": {},
   "source": [
    "### 7.2. Technical Contributions\n",
    "\n",
    "1. **Advanced Feature Engineering:** Created physics-informed features that capture the complex relationships between sunspot characteristics and flare potential\n",
    "2. **Class Imbalance Solutions:** Implemented multiple approaches including aggressive SMOTEENN sampling, custom loss functions, and class-specific model optimization\n",
    "3. **Ensemble Methods:** Developed specialized ensemble approaches focused on critical flare class detection\n",
    "4. **Comprehensive Evaluation:** Used multiple metrics appropriate for imbalanced classification and business requirements\n"
   ]
  },
  {
   "cell_type": "markdown",
   "metadata": {},
   "source": [
    "### 7.3. Limitations and Future Improvements\n",
    "\n",
    "**Current Limitations:**\n",
    "\n",
    "- M-class flare detection performance remains below operational requirements\n",
    "- Limited by historical data availability and inherent class imbalance\n",
    "- Model interpretability could be enhanced with SHAP analysis\n",
    "- Real-time deployment infrastructure not implemented\n",
    "\n",
    "**Future Work:**\n",
    "\n",
    "1. **Data Enhancement:** Incorporate additional solar physics parameters (magnetic field measurements, solar wind data)\n",
    "2. **Advanced Architectures:** Explore deep learning approaches and time-series models\n",
    "3. **Ensemble Integration:** Combine with physics-based models and human expert knowledge\n",
    "4. **Operational Deployment:** Develop real-time data pipelines and monitoring systems\n",
    "5. **Continuous Learning:** Implement online learning for adaptation to solar cycle variations\n"
   ]
  },
  {
   "cell_type": "markdown",
   "metadata": {},
   "source": [
    "### 7.4. Professional Impact\n",
    "\n",
    "This project demonstrates the practical application of machine learning to complex scientific problems with real-world operational requirements. The work showcases skills in data preprocessing, feature engineering, model development, evaluation, and deployment - all essential capabilities for a computer science professional working in data science and machine learning applications.\n"
   ]
  }
 ],
 "metadata": {
  "colab": {
   "authorship_tag": "ABX9TyMPDdiR6kQYo2jRCqiFc+7x",
   "include_colab_link": true,
   "provenance": [],
   "toc_visible": true
  },
  "kernelspec": {
   "display_name": "cenv",
   "language": "python",
   "name": "python3"
  },
  "language_info": {
   "codemirror_mode": {
    "name": "ipython",
    "version": 3
   },
   "file_extension": ".py",
   "mimetype": "text/x-python",
   "name": "python",
   "nbconvert_exporter": "python",
   "pygments_lexer": "ipython3",
   "version": "3.13.5"
  }
 },
 "nbformat": 4,
 "nbformat_minor": 0
}
