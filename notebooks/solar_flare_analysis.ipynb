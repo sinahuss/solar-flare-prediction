{
  "cells": [
    {
      "cell_type": "markdown",
      "metadata": {
        "colab_type": "text",
        "id": "view-in-github"
      },
      "source": [
        "<a href=\"https://colab.research.google.com/github/sinahuss/solar-flare-prediction/blob/main/notebooks/solar_flare_analysis.ipynb\" target=\"_parent\"><img src=\"https://colab.research.google.com/assets/colab-badge.svg\" alt=\"Open In Colab\"/></a>"
      ]
    },
    {
      "cell_type": "markdown",
      "metadata": {
        "id": "KkTkq0gHjNlg"
      },
      "source": [
        "# C964 Capstone: Solar Flare Prediction and Analysis"
      ]
    },
    {
      "cell_type": "markdown",
      "metadata": {},
      "source": [
        "## 1. Business Understanding\n",
        "\n",
        "### Organizational Need\n",
        "\n",
        "Space weather events, particularly solar flares, pose significant risks to critical infrastructure on Earth and in space. Organizations like NOAA's Space Weather Prediction Center require reliable early warning systems to protect:\n",
        "\n",
        "- **Satellite communications and GPS systems** that can be disrupted by solar radiation\n",
        "- **Power grids** vulnerable to geomagnetic storms triggered by solar flares\n",
        "- **Astronauts and aircraft** exposed to increased radiation during solar events\n",
        "- **Radio communications** that can be severely affected by solar activity\n",
        "\n",
        "Current prediction methods rely heavily on human expertise and limited historical patterns, often resulting in missed events or false alarms that can lead to unnecessary protective measures and associated costs.\n",
        "\n",
        "### Project Goal\n",
        "\n",
        "This project aims to develop a machine learning model that can predict the likelihood of solar flare events (C, M, or X-class) within a 24-hour period based on observable characteristics of sunspot regions. The model will provide:\n",
        "\n",
        "- **Early warning capability** for space weather forecasters\n",
        "- **Automated risk assessment** to supplement human expertise\n",
        "- **Improved accuracy** in flare prediction to reduce false alarms and missed events\n",
        "\n",
        "### Success Criteria\n",
        "\n",
        "The model's success will be measured by:\n",
        "\n",
        "- **High recall for X and M-class flares** (the most dangerous events) to minimize missed warnings\n",
        "- **Balanced precision and recall** to reduce false alarms while maintaining sensitivity\n",
        "- **Practical deployment feasibility** for integration into existing space weather monitoring systems\n",
        "\n",
        "This predictive capability would enable space weather agencies to provide more reliable warnings, allowing for better preparation and protection of critical infrastructure."
      ]
    },
    {
      "cell_type": "markdown",
      "metadata": {},
      "source": [
        "## 2. Data Understanding"
      ]
    },
    {
      "cell_type": "markdown",
      "metadata": {
        "id": "l-2r8JEfeptP"
      },
      "source": [
        "### 2.1. Load Libraries and Data\n",
        "\n",
        "Import the necessary Python libraries and load the dataset from a public GitHub repository into a Pandas dataframe. Display the first few rows to verify that it has been loaded."
      ]
    },
    {
      "cell_type": "code",
      "execution_count": null,
      "metadata": {
        "id": "zCBbIizzO1Mu"
      },
      "outputs": [],
      "source": [
        "import pandas as pd\n",
        "import numpy as np\n",
        "import matplotlib.pyplot as plt\n",
        "import seaborn as sns\n",
        "\n",
        "url = 'https://raw.githubusercontent.com/sinahuss/solar-flare-prediction/refs/heads/main/data/data.csv'\n",
        "df = pd.read_csv(url)\n",
        "\n",
        "df.head()"
      ]
    },
    {
      "cell_type": "markdown",
      "metadata": {
        "id": "KRY4P9xGI94V"
      },
      "source": [
        "### 2.2. Initial Data Inspection\n",
        "\n",
        "First, perform an initial inspection of the dataset to understand its basic structure. Use `.info()` to check the column names, data types, and look for any missing values. Then use `.describe()` to get a statistical summary of the numerical features, which helps in identifying the scale and distribution of the data. The output from `.info()` confirms that there are no missing values, meaning no additional data preparation steps are required.\n"
      ]
    },
    {
      "cell_type": "code",
      "execution_count": null,
      "metadata": {
        "id": "hmC34kT4I-sO"
      },
      "outputs": [],
      "source": [
        "df.info()\n",
        "\n",
        "df.describe()"
      ]
    },
    {
      "cell_type": "markdown",
      "metadata": {},
      "source": [
        "### 2.3. Exploratory Data Analysis"
      ]
    },
    {
      "cell_type": "markdown",
      "metadata": {},
      "source": [
        "#### 2.3.1. Correlation Matrix Heatmap\n",
        "\n",
        "To understand the relationships between the different features of solar active regions, a correlation matrix heatmap will be generated. This visualization helps identify which features are strongly related, which could indicate redundancy, and which features might be most predictive of our target variable."
      ]
    },
    {
      "cell_type": "code",
      "execution_count": null,
      "metadata": {},
      "outputs": [],
      "source": [
        "plt.figure(figsize=(10, 8))\n",
        "\n",
        "sns.heatmap(df.corr(numeric_only=True), annot=True, cmap='viridis')\n",
        "\n",
        "plt.title('Feature Correlation Matrix')\n",
        "plt.show()"
      ]
    },
    {
      "cell_type": "markdown",
      "metadata": {},
      "source": [
        "#### 2.3.2. Class Imbalance Visualization"
      ]
    },
    {
      "cell_type": "code",
      "execution_count": null,
      "metadata": {},
      "outputs": [],
      "source": []
    },
    {
      "cell_type": "markdown",
      "metadata": {},
      "source": [
        "## 3. Data Understanding"
      ]
    },
    {
      "cell_type": "markdown",
      "metadata": {
        "id": "w5lilJikbqfH"
      },
      "source": [
        "### 3.1. Categorize and Count Flare Classes\n",
        "\n",
        "The dataset tracks C, M, and X-class flares in three separate columns, representing the count of each event type. For this classification task, a single target variable is needed. A new column will be created called `flare_class` that categorizes each 24-hour period by the most significant flare produced by a sunspot group, following the standard hierarchy (X > M > C)."
      ]
    },
    {
      "cell_type": "code",
      "execution_count": null,
      "metadata": {
        "id": "bApKu4oVVaPe"
      },
      "outputs": [],
      "source": [
        "# Determine the highest flare class for each row\n",
        "def get_flare_class(row):\n",
        "    if row['severe flares'] > 0:\n",
        "        return 3 # X-class\n",
        "    elif row['moderate flares'] > 0:\n",
        "        return 2 # M-class\n",
        "    elif row['common flares'] > 0:\n",
        "        return 1 # C-class\n",
        "    else:\n",
        "        return 0 # None\n",
        "\n",
        "# Create a new target column\n",
        "df['flare_class'] = df.apply(get_flare_class, axis=1)\n",
        "\n",
        "print(df['flare_class'].value_counts())"
      ]
    },
    {
      "cell_type": "markdown",
      "metadata": {},
      "source": [
        "### 3.2. Prevent Data Leakage\n",
        "\n",
        "The original flare columns are dropped to prevent data leakage."
      ]
    },
    {
      "cell_type": "code",
      "execution_count": null,
      "metadata": {},
      "outputs": [],
      "source": [
        "# Drop original flare columns to prevent data leakage\n",
        "df.drop(columns=['common flares', 'moderate flares', 'severe flares'], inplace=True)"
      ]
    },
    {
      "cell_type": "markdown",
      "metadata": {
        "id": "fo0In97iiQSt"
      },
      "source": [
        "### 3.3. One-Hot Encode Categorical Features\n",
        "\n",
        "The machine learning model requires all input features to be numerical. The dataset contains several categorical columns with object data types (e.g., 'modified Zurich class'). One-hot encoding will be used to convert these categorical features into a numerical format, creating new binary columns for each category. This is a crucial step to make the data suitable for the classification algorithm."
      ]
    },
    {
      "cell_type": "code",
      "execution_count": null,
      "metadata": {
        "id": "0I9Vi67biM2k"
      },
      "outputs": [],
      "source": [
        "# Identify the categorical columns to be encoded\n",
        "categorical_cols = ['modified Zurich class', 'largest spot size', 'spot distribution']\n",
        "\n",
        "# Apply one-hot encoding using pandas get_dummies\n",
        "df_encoded = pd.get_dummies(df, columns=categorical_cols)\n",
        "\n",
        "# Display the first few rows to see the new columns\n",
        "df_encoded.head()"
      ]
    }
  ],
  "metadata": {
    "colab": {
      "authorship_tag": "ABX9TyMPDdiR6kQYo2jRCqiFc+7x",
      "include_colab_link": true,
      "provenance": [],
      "toc_visible": true
    },
    "kernelspec": {
      "display_name": "cenv",
      "language": "python",
      "name": "python3"
    },
    "language_info": {
      "codemirror_mode": {
        "name": "ipython",
        "version": 3
      },
      "file_extension": ".py",
      "mimetype": "text/x-python",
      "name": "python",
      "nbconvert_exporter": "python",
      "pygments_lexer": "ipython3",
      "version": "3.13.5"
    }
  },
  "nbformat": 4,
  "nbformat_minor": 0
}
