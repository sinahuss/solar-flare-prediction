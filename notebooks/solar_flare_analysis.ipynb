{
  "nbformat": 4,
  "nbformat_minor": 0,
  "metadata": {
    "colab": {
      "provenance": [],
      "toc_visible": true,
      "authorship_tag": "ABX9TyMTp8yqBqUl4gvpvbwAUayB",
      "include_colab_link": true
    },
    "kernelspec": {
      "name": "python3",
      "display_name": "Python 3"
    },
    "language_info": {
      "name": "python"
    }
  },
  "cells": [
    {
      "cell_type": "markdown",
      "metadata": {
        "id": "view-in-github",
        "colab_type": "text"
      },
      "source": [
        "<a href=\"https://colab.research.google.com/github/sinahuss/solar-flare-prediction/blob/main/notebooks/solar_flare_analysis.ipynb\" target=\"_parent\"><img src=\"https://colab.research.google.com/assets/colab-badge.svg\" alt=\"Open In Colab\"/></a>"
      ]
    },
    {
      "cell_type": "markdown",
      "source": [
        "# C964 Capstone: Solar Flare Prediction and Analysis"
      ],
      "metadata": {
        "id": "KkTkq0gHjNlg"
      }
    },
    {
      "cell_type": "code",
      "source": [
        "import pandas as pd\n",
        "import numpy as np"
      ],
      "metadata": {
        "id": "0AOMLZFXavfH"
      },
      "execution_count": null,
      "outputs": []
    },
    {
      "cell_type": "markdown",
      "source": [
        "# Load the dataset from a raw GitHub URL"
      ],
      "metadata": {
        "id": "w4M2ggpJb0L9"
      }
    },
    {
      "cell_type": "code",
      "source": [
        "url = 'https://raw.githubusercontent.com/sinahuss/solar-flare-prediction/refs/heads/main/data/data.csv'\n",
        "df = pd.read_csv(url)"
      ],
      "metadata": {
        "id": "zCBbIizzO1Mu"
      },
      "execution_count": null,
      "outputs": []
    },
    {
      "cell_type": "markdown",
      "source": [
        "# Display the first few rows to confirm it loaded correctly."
      ],
      "metadata": {
        "id": "-s4U9ZdJbmx_"
      }
    },
    {
      "cell_type": "code",
      "source": [
        "df.head()"
      ],
      "metadata": {
        "id": "HWiDj-vWa82u"
      },
      "execution_count": null,
      "outputs": []
    },
    {
      "cell_type": "markdown",
      "source": [
        "# Define and apply a function to create a unified flare class"
      ],
      "metadata": {
        "id": "w5lilJikbqfH"
      }
    },
    {
      "cell_type": "code",
      "source": [
        "# Determine the highest flare class for each row\n",
        "def get_flare_class(row):\n",
        "    if row['severe flares'] > 0:\n",
        "        return 'X'\n",
        "    elif row['moderate flares'] > 0:\n",
        "        return 'M'\n",
        "    elif row['common flares'] > 0:\n",
        "        return 'C'\n",
        "    else:\n",
        "        return 'None'\n",
        "\n",
        "# Create a new target column\n",
        "df['flare_class'] = df.apply(get_flare_class, axis=1)\n",
        "\n",
        "print(df['flare_class'].value_counts())"
      ],
      "metadata": {
        "id": "bApKu4oVVaPe"
      },
      "execution_count": null,
      "outputs": []
    }
  ]
}