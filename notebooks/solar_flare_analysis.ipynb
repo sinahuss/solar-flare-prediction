{
 "cells": [
  {
   "cell_type": "markdown",
   "metadata": {
    "colab_type": "text",
    "id": "view-in-github"
   },
   "source": [
    "<a href=\"https://colab.research.google.com/github/sinahuss/solar-flare-prediction/blob/main/notebooks/solar_flare_analysis.ipynb\" target=\"_parent\"><img src=\"https://colab.research.google.com/assets/colab-badge.svg\" alt=\"Open In Colab\"/></a>\n"
   ]
  },
  {
   "cell_type": "markdown",
   "metadata": {
    "id": "KkTkq0gHjNlg"
   },
   "source": [
    "# C964 Capstone: Solar Flare Prediction and Analysis\n"
   ]
  },
  {
   "cell_type": "markdown",
   "metadata": {},
   "source": [
    "## 1. Business Understanding\n",
    "\n",
    "### Organizational Need\n",
    "\n",
    "Space weather events, particularly solar flares, pose significant risks to critical infrastructure on Earth and in space. Organizations like NOAA's Space Weather Prediction Center require reliable early warning systems to protect:\n",
    "\n",
    "- Satellite communications and GPS systems\n",
    "- Power grids\n",
    "- Astronauts and aircraft\n",
    "- Radio communications\n",
    "\n",
    "Current prediction methods rely heavily on human expertise and limited historical patterns, which may result in missed events or false alarms. These risks can lead to potentially billions of dollars in economic damage and disruptions to essential services.\n",
    "\n",
    "### Project Goal\n",
    "\n",
    "This project aims to develop a data product featuring a machine learning model that can predict the likelihood of solar flare events (C, M, or X-class) within a 24-hour period based on characteristics of sunspot regions. The model will provide early warning capability for space weather forecasters, and improved accuracy in flare prediction to reduce false alarms and missed events.\n",
    "\n",
    "### Success Criteria\n",
    "\n",
    "The model's success will be measured by:\n",
    "\n",
    "- High recall for X and M-class flares (the most dangerous events) to minimize missed warnings\n",
    "- Balanced precision and recall to reduce false alarms while maintaining sensitivity\n",
    "- Practical deployment feasibility for integration into existing space weather monitoring systems\n",
    "\n",
    "This predictive capability would enable space weather agencies to provide more reliable warnings, allowing for better preparation and protection of critical infrastructure.\n"
   ]
  },
  {
   "cell_type": "markdown",
   "metadata": {},
   "source": [
    "## 2. Data Understanding\n"
   ]
  },
  {
   "cell_type": "markdown",
   "metadata": {
    "id": "l-2r8JEfeptP"
   },
   "source": [
    "### 2.1. Load Libraries and Data\n",
    "\n",
    "Our solar flare prediction analysis begins with importing essential libraries and loading the sunspot dataset.\n",
    "\n",
    "The dataset will be loaded from a public GitHub repository containing the Solar Flare Dataset from Kaggle, which provides the historical data needed to train our flare prediction model.\n",
    "\n",
    "This dataset contains morphological characteristics of sunspot groups that solar physicists use to assess flare potential. The first few rows will be displayed to verify successful data loading and provide an initial glimpse of the sunspot characteristics.\n"
   ]
  },
  {
   "cell_type": "code",
   "execution_count": null,
   "metadata": {
    "id": "zCBbIizzO1Mu"
   },
   "outputs": [],
   "source": [
    "import pandas as pd\n",
    "import numpy as np\n",
    "import matplotlib.pyplot as plt\n",
    "import seaborn as sns\n",
    "\n",
    "# Load dataset from GitHub repository (public Kaggle dataset)\n",
    "url = \"https://raw.githubusercontent.com/sinahuss/solar-flare-prediction/refs/heads/main/data/data.csv\"\n",
    "df = pd.read_csv(url)\n",
    "\n",
    "# Display first few rows to verify successful loading\n",
    "df.head()"
   ]
  },
  {
   "cell_type": "markdown",
   "metadata": {},
   "source": [
    "### 2.2. Dataset Feature Descriptions\n",
    "\n",
    "The dataset contains 13 features describing each solar active region. The first 10 are the input features for our model, and the last three are the target variables we aim to predict.\n",
    "\n",
    "**Input Features:**\n",
    "\n",
    "- **modified Zurich class:** A classification of the sunspot group's magnetic complexity, generally ordered from least to most complex (A, B, C, D, E, F, H).\n",
    "- **largest spot size:** Size of the largest spot in the group, ordered from smallest to largest (X, R, S, A, H, K).\n",
    "- **spot distribution:** Compactness of the sunspot group, ordered from least to most compact (X, O, I, C).\n",
    "- **activity:** A code representing the region's recent growth (1=decay, 2=no change).\n",
    "- **evolution:** Describes the region's evolution over the last 24 hours (1=decay, 2=no growth, 3=growth).\n",
    "- **previous 24 hour flare activity:** A code summarizing prior flare activity (1=none, 2=one M1, 3=>one M1).\n",
    "- **historically-complex:** A flag indicating if the region was ever historically complex (1=Yes, 2=No).\n",
    "- **became complex on this pass:** A flag indicating if the region became complex on its current transit (1=Yes, 2=No).\n",
    "- **area:** A code for the total area of the sunspot group (1=small, 2=large).\n",
    "- **area of largest spot:** A code for the area of the largest individual spot (1=<=5, 2=>5).\n",
    "\n",
    "**Target Variables:**\n",
    "\n",
    "- **common flares:** The number of **C-class** flares produced in the next 24 hours.\n",
    "- **moderate flares:** The number of **M-class** flares produced in the next 24 hours.\n",
    "- **severe flares:** The number of **X-class** flares produced in the next 24 hours.\n"
   ]
  },
  {
   "cell_type": "markdown",
   "metadata": {
    "id": "KRY4P9xGI94V"
   },
   "source": [
    "### 2.3. Initial Data Inspection\n",
    "\n",
    "A foundational understanding of the dataset's structure and quality must be established. This inspection is critical for the solar flare prediction model because data quality directly impacts model performance and reliability for space weather forecasting.\n",
    "\n",
    "First, we will use `.info()` to examine the column names, data types, and check for any missing values. The output confirms that there are no missing values, meaning that null values do not have to be accounted for in the data preparation phase.\n",
    "\n",
    "Next, we use `describe()` to generate a summary of the categorical features, including their unique values and most frequent entries, which helps us understand the distribution and composition of the dataset's categorical variables.\n"
   ]
  },
  {
   "cell_type": "code",
   "execution_count": null,
   "metadata": {
    "id": "hmC34kT4I-sO"
   },
   "outputs": [],
   "source": [
    "df.info()\n",
    "\n",
    "df.astype(\"object\").describe().transpose()"
   ]
  },
  {
   "cell_type": "markdown",
   "metadata": {},
   "source": [
    "### 2.4. Exploratory Data Analysis\n"
   ]
  },
  {
   "cell_type": "markdown",
   "metadata": {},
   "source": [
    "#### 2.4.1. Target Variable Analysis\n",
    "\n",
    "Before analyzing the input features, we must first understand the distribution of our target variables: `common flares`, `moderate flares`, and `severe flares`. The plots below show the number of 24-hour periods in the dataset that recorded zero, one, two, or more flares of each type.\n",
    "\n",
    "**Key Findings:**\n",
    "\n",
    "The visualization reveals a severe class imbalance for our solar flare prediction. Out of all 24-hour periods available, only 15% experienced at least one C-Class event, 5% recorded M-Class events, and 1% showed X-Class events.\n",
    "\n",
    "This imbalance has several implications for our machine learning approach:\n",
    "\n",
    "1. **Model Selection:** Traditional accuracy metrics will be misleading due to the dominance of the \"no flare\" class. We must focus on precision, recall, and F1-score for the minority classes.\n",
    "\n",
    "2. **Sampling Strategy:** We may need to employ techniques like SMOTE, class weights, or stratified sampling to address the imbalance.\n",
    "\n",
    "3. **Evaluation Metrics:** The model's success will be measured primarily by its ability to correctly identify the rare but dangerous M and X-class flares, rather than overall accuracy.\n",
    "\n",
    "4. **Business Impact:** Missing an X-class flare (false negative) is far more costly than incorrectly predicting one (false positive), making recall for severe flares our primary optimization target.\n"
   ]
  },
  {
   "cell_type": "code",
   "execution_count": null,
   "metadata": {},
   "outputs": [],
   "source": [
    "flare_columns = [\"common flares\", \"moderate flares\", \"severe flares\"]\n",
    "\n",
    "# Create a figure with 3 subplots, one for each flare type\n",
    "fig, axes = plt.subplots(1, 3, figsize=(16, 5), sharey=True)\n",
    "fig.suptitle(\"Distribution of Raw Flare Counts Per 24-Hour Period\")\n",
    "\n",
    "# Loop through each flare type and plot its distribution\n",
    "for i, col in enumerate(flare_columns):\n",
    "    ax = axes[i]\n",
    "    countplot = sns.countplot(\n",
    "        data=df, x=col, ax=ax, hue=col, palette=\"viridis\", legend=False\n",
    "    )\n",
    "    ax.set_title(f\"Distribution of {col}\")\n",
    "    ax.set_xlabel(\"Flares Recorded\")\n",
    "    for container in ax.containers:\n",
    "        ax.bar_label(container, fmt=\"%d\", label_type=\"edge\", padding=2)\n",
    "\n",
    "plt.tight_layout(rect=[0, 0, 1, 0.95])\n",
    "plt.show()"
   ]
  },
  {
   "cell_type": "markdown",
   "metadata": {},
   "source": [
    "#### 2.4.2. Feature Distribution Analysis\n",
    "\n",
    "To understand the characteristics of sunspot regions that may influence solar flare activity, we analyze three categorical features in our dataset. These features represent key morphological properties of sunspot groups that solar physicists use to assess flare potential:\n",
    "\n",
    "**Modified Zurich Class:** This classification system categorizes sunspot groups based on their magnetic complexity and structure. The classes range from simple (A, B, C) to complex (D, E, F) then decayed (H), with more complex classes generally associated with higher flare probability. Complex magnetic configurations create more opportunities for magnetic reconnection events that trigger solar flares.\n",
    "\n",
    "**Largest Spot Size:** This feature indicates the maximum size of individual sunspots within a group, measured in millionths of the solar hemisphere. Larger spots often indicate stronger magnetic fields and greater potential for energy release through flares. The size categories help quantify the scale of magnetic activity in the region.\n",
    "\n",
    "**Spot Distribution:** This describes the spatial arrangement of sunspots within a group, ranging from single spots to complex clusters. The distribution pattern reflects the underlying magnetic field structure and can indicate the likelihood of magnetic reconnection events that produce flares.\n",
    "\n",
    "**Key Findings:**\n",
    "\n",
    "Each categorical feature seems to follow a normal distribution curve, with the exception of the modified Zurich class. There is a high representation of the H class, which represents decayed remnants of previous sunspot groups. This provides good training data for predicting high-intensity flares, but the rarity of Classes E and F may limit the model's ability to distinguish between different levels of high complexity.\n"
   ]
  },
  {
   "cell_type": "code",
   "execution_count": null,
   "metadata": {},
   "outputs": [],
   "source": [
    "# Define the categorical features to analyze\n",
    "categorical_features = [\n",
    "    \"modified Zurich class\",\n",
    "    \"largest spot size\",\n",
    "    \"spot distribution\",\n",
    "]\n",
    "\n",
    "# Specify the order for each categorical feature for consistent plotting\n",
    "category_orders = {\n",
    "    \"modified Zurich class\": [\"B\", \"C\", \"D\", \"E\", \"F\", \"H\"],\n",
    "    \"largest spot size\": [\"X\", \"R\", \"S\", \"A\", \"H\", \"K\"],\n",
    "    \"spot distribution\": [\"X\", \"O\", \"I\", \"C\"],\n",
    "}\n",
    "\n",
    "# Create a figure with 3 subplots, one for each categorical feature\n",
    "fig, axes = plt.subplots(1, 3, figsize=(20, 6), sharey=True)\n",
    "fig.suptitle(\"Distribution of Key Categorical Features\")\n",
    "\n",
    "# Loop through each categorical feature and plot its distribution\n",
    "for i, feature in enumerate(categorical_features):\n",
    "    sns.countplot(\n",
    "        ax=axes[i],\n",
    "        data=df,\n",
    "        x=feature,\n",
    "        order=category_orders[feature],\n",
    "        hue=feature,\n",
    "        palette=\"viridis\",\n",
    "    )\n",
    "    axes[i].set_title(f\"Distribution of {feature}\")\n",
    "    axes[i].tick_params(axis=\"x\")\n",
    "\n",
    "plt.tight_layout(rect=[0, 0, 1, 0.95])\n",
    "plt.show()"
   ]
  },
  {
   "cell_type": "markdown",
   "metadata": {},
   "source": [
    "#### 2.4.3. Relationship Analysis\n",
    "\n",
    "Having analyzed the features and targets individually, we now explore their relationship through two visualizations. These analyses investigate a key hypothesis: that more complex sunspot groups produce more significant flares.\n",
    "\n",
    "**Total Flares Analysis:** The first subplot shows the total number of C, M, and X-class flares produced by each modified Zurich class, revealing which sunspot configurations are the most prolific sources of solar flares. \n",
    "\n",
    "**Average Flares Analysis:** The second subplot normalizes this data by showing the average number of flares per class instance, accounting for the different frequencies of each modified Zurich class in the dataset. This provides a more accurate assessment of flare risk per sunspot group.\n",
    "\n",
    "**Key Findings:**\n",
    "\n",
    "The two visualizations along with the distribution of modified Zurich class above give us an idea of the relationship between the complexity of sunspot groups and the flares produced by them.\n",
    "\n",
    "B and C class sunspot regions are low complexity and produce the least amount of solar flares, so they can be seen as low-risk regions. H class regions are decayed remnants of C, D, E, and F regions, and are also low-risk regions.\n",
    "\n",
    "D class sunspot regions are interesting because they produce the highest number of total solar flares in the dataset. But, after normalizing the data, we can see that they actually produce significantly fewer flares per sunspot region. Therefore, they can be categorized as medium-risk regions.\n",
    "\n",
    "E and F class sunspots can be seen as high-risk regions. E class regions are almost guaranteed to produce solar flares, reaching just under 1 solar flare per class instance. F class regions produce a low total amount of solar flares, but adjusting for their lower representation in the dataset, they produce a high number of solar flares per region. F class regions also produce the highest amount of X-class (severe) flares when data is normalized."
   ]
  },
  {
   "cell_type": "code",
   "execution_count": null,
   "metadata": {},
   "outputs": [],
   "source": [
    "# Melt the dataframe to have a single column for flare type and another for the count\n",
    "flare_counts_df = df.melt(\n",
    "    id_vars=[\"modified Zurich class\"],\n",
    "    value_vars=[\"common flares\", \"moderate flares\", \"severe flares\"],\n",
    "    var_name=\"flare_type\",\n",
    "    value_name=\"count\",\n",
    ")\n",
    "\n",
    "# Remove rows where flares have not occurred\n",
    "flare_counts_df = flare_counts_df[flare_counts_df[\"count\"] > 0]\n",
    "\n",
    "# Calculate the number of sunspot groups for each Zurich class\n",
    "zurich_class_counts = df[\"modified Zurich class\"].value_counts().to_dict()\n",
    "\n",
    "# Calculate the proportional number of flares (per Zurich class instance)\n",
    "flare_counts_df[\"class_count\"] = flare_counts_df[\"modified Zurich class\"].map(zurich_class_counts)\n",
    "flare_counts_df[\"count_per_class\"] = flare_counts_df[\"count\"] / flare_counts_df[\"class_count\"]\n",
    "\n",
    "# Create a figure with 2 subplots\n",
    "fig, (ax1, ax2) = plt.subplots(1, 2, figsize=(20, 8))\n",
    "\n",
    "# Create the Grouped Bar Plot\n",
    "sns.barplot(\n",
    "    data=flare_counts_df,\n",
    "    x=\"modified Zurich class\",\n",
    "    y=\"count\",\n",
    "    hue=\"flare_type\",\n",
    "    estimator=sum,\n",
    "    order=category_orders[\"modified Zurich class\"],\n",
    "    palette=\"viridis\",\n",
    "    errorbar=None,\n",
    "    ax=ax1\n",
    ")\n",
    "ax1.set_title(\"Total Flares Produced by Sunspot Zurich Class\")\n",
    "ax1.set_xlabel(\"Modified Zurich Class\")\n",
    "ax1.set_ylabel(\"Total Number of Flares Recorded\")\n",
    "ax1.legend(title=\"Flare Type\")\n",
    "\n",
    "# Second subplot: Average Flares per Class Instance\n",
    "sns.barplot(\n",
    "    data=flare_counts_df,\n",
    "    x=\"modified Zurich class\",\n",
    "    y=\"count_per_class\",\n",
    "    hue=\"flare_type\",\n",
    "    estimator=sum,\n",
    "    order=category_orders[\"modified Zurich class\"],\n",
    "    palette=\"viridis\",\n",
    "    errorbar=None,\n",
    "    ax=ax2\n",
    ")\n",
    "ax2.set_title(\"Average Number of Flares per Sunspot Zurich Class\")\n",
    "ax2.set_xlabel(\"Modified Zurich Class\")\n",
    "ax2.set_ylabel(\"Average Number of Flares per Class Instance\")\n",
    "ax2.legend(title=\"Flare Type\")\n",
    "\n",
    "plt.tight_layout(rect=[0, 0, 1, 0.95])\n",
    "plt.show()"
   ]
  },
  {
   "cell_type": "markdown",
   "metadata": {},
   "source": [
    "## 3. Data Preparation\n"
   ]
  },
  {
   "cell_type": "markdown",
   "metadata": {
    "id": "w5lilJikbqfH"
   },
   "source": [
    "### 3.1. Categorize and Count Flare Classes\n",
    "\n",
    "The dataset tracks C, M, and X-class flares in three separate columns, representing the count of each event type. For this classification task, a single target variable is needed. A new column will be created called `flare_class` that categorizes each 24-hour period by the most significant flare produced by a sunspot group, following the standard hierarchy (X > M > C).\n"
   ]
  },
  {
   "cell_type": "code",
   "execution_count": null,
   "metadata": {
    "id": "bApKu4oVVaPe"
   },
   "outputs": [],
   "source": [
    "# Determine the highest flare class for each row\n",
    "def get_flare_class(row):\n",
    "    if row[\"severe flares\"] > 0:\n",
    "        return 3  # X-class\n",
    "    elif row[\"moderate flares\"] > 0:\n",
    "        return 2  # M-class\n",
    "    elif row[\"common flares\"] > 0:\n",
    "        return 1  # C-class\n",
    "    else:\n",
    "        return 0  # None\n",
    "\n",
    "\n",
    "# Create a new target column\n",
    "df[\"flare_class\"] = df.apply(get_flare_class, axis=1)\n",
    "\n",
    "print(df[\"flare_class\"].value_counts())"
   ]
  },
  {
   "cell_type": "markdown",
   "metadata": {},
   "source": [
    "### 3.2. Prevent Data Leakage\n",
    "\n",
    "The original flare columns are dropped to prevent data leakage.\n"
   ]
  },
  {
   "cell_type": "code",
   "execution_count": null,
   "metadata": {},
   "outputs": [],
   "source": [
    "# Drop original flare columns to prevent data leakage\n",
    "df.drop(columns=[\"common flares\", \"moderate flares\", \"severe flares\"], inplace=True)"
   ]
  },
  {
   "cell_type": "markdown",
   "metadata": {
    "id": "fo0In97iiQSt"
   },
   "source": [
    "### 3.3. One-Hot Encode Categorical Features\n",
    "\n",
    "The machine learning model requires all input features to be numerical. The dataset contains several categorical columns with object data types (e.g., 'modified Zurich class'). One-hot encoding will be used to convert these categorical features into a numerical format, creating new binary columns for each category. This is a crucial step to make the data suitable for the classification algorithm.\n"
   ]
  },
  {
   "cell_type": "code",
   "execution_count": null,
   "metadata": {
    "id": "0I9Vi67biM2k"
   },
   "outputs": [],
   "source": [
    "# Identify the categorical columns to be encoded\n",
    "categorical_cols = [\"modified Zurich class\", \"largest spot size\", \"spot distribution\"]\n",
    "\n",
    "# Apply one-hot encoding using pandas get_dummies\n",
    "df_encoded = pd.get_dummies(df, columns=categorical_cols)\n",
    "\n",
    "# Display the first few rows to see the new columns\n",
    "df_encoded.head()"
   ]
  }
 ],
 "metadata": {
  "colab": {
   "authorship_tag": "ABX9TyMPDdiR6kQYo2jRCqiFc+7x",
   "include_colab_link": true,
   "provenance": [],
   "toc_visible": true
  },
  "kernelspec": {
   "display_name": "cenv",
   "language": "python",
   "name": "python3"
  },
  "language_info": {
   "codemirror_mode": {
    "name": "ipython",
    "version": 3
   },
   "file_extension": ".py",
   "mimetype": "text/x-python",
   "name": "python",
   "nbconvert_exporter": "python",
   "pygments_lexer": "ipython3",
   "version": "3.13.5"
  }
 },
 "nbformat": 4,
 "nbformat_minor": 0
}
