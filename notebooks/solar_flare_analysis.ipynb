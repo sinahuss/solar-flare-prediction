{
 "cells": [
  {
   "cell_type": "markdown",
   "metadata": {
    "colab_type": "text",
    "id": "view-in-github"
   },
   "source": [
    "<a href=\"https://colab.research.google.com/github/sinahuss/solar-flare-prediction/blob/main/notebooks/solar_flare_analysis.ipynb\" target=\"_parent\"><img src=\"https://colab.research.google.com/assets/colab-badge.svg\" alt=\"Open In Colab\"/></a>"
   ]
  },
  {
   "cell_type": "markdown",
   "metadata": {
    "id": "KkTkq0gHjNlg"
   },
   "source": [
    "# C964 Capstone: Solar Flare Prediction and Analysis"
   ]
  },
  {
   "cell_type": "markdown",
   "metadata": {},
   "source": [
    "## 1. Business Understanding\n",
    "\n",
    "### Organizational Need\n",
    "\n",
    "Space weather events, particularly solar flares, pose significant risks to critical infrastructure on Earth and in space. Organizations like NOAA's Space Weather Prediction Center require reliable early warning systems to protect:\n",
    "\n",
    "- Satellite communications and GPS systems\n",
    "- Power grids\n",
    "- Astronauts and aircraft\n",
    "- Radio communications\n",
    "\n",
    "Current prediction methods rely heavily on human expertise and limited historical patterns, which may result in missed events or false alarms. These risks can lead to potentially billions of dollars in economic damage and disruptions to essential services.\n",
    "\n",
    "### Project Goal\n",
    "\n",
    "This project aims to develop data product featuring a machine learning model that can predict the likelihood of solar flare events (C, M, or X-class) within a 24-hour period based on characteristics of sunspot regions. The model will provide early warning capability for space weather forecasters, and improved accuracy in flare prediction to reduce false alarms and missed events.\n",
    "\n",
    "### Success Criteria\n",
    "\n",
    "The model's success will be measured by:\n",
    "\n",
    "- **High recall for X and M-class flares** (the most dangerous events) to minimize missed warnings\n",
    "- **Balanced precision and recall** to reduce false alarms while maintaining sensitivity\n",
    "- **Practical deployment feasibility** for integration into existing space weather monitoring systems\n",
    "\n",
    "This predictive capability would enable space weather agencies to provide more reliable warnings, allowing for better preparation and protection of critical infrastructure."
   ]
  },
  {
   "cell_type": "markdown",
   "metadata": {},
   "source": [
    "## 2. Data Understanding"
   ]
  },
  {
   "cell_type": "markdown",
   "metadata": {
    "id": "l-2r8JEfeptP"
   },
   "source": [
    "### 2.1. Load Libraries and Data\n",
    "\n",
    "Our solar flare prediction analysis begins with importing essential libraries and loading the sunspot dataset.\n",
    "\n",
    "The dataset will be loaded from a public GitHub repository containing the Solar Flare Dataset from Kaggle, which provides the historical data needed to train our flare prediction model.\n",
    "\n",
    "This dataset contains morphological characteristics of sunspot groups that solar physicists use to assess flare potential. The first few rows will be displayed to verify successful data loading and provide an initial glimpse of the sunspot characteristics."
   ]
  },
  {
   "cell_type": "code",
   "execution_count": null,
   "metadata": {
    "id": "zCBbIizzO1Mu"
   },
   "outputs": [],
   "source": [
    "import pandas as pd\n",
    "import numpy as np\n",
    "import matplotlib.pyplot as plt\n",
    "import seaborn as sns\n",
    "\n",
    "url = 'https://raw.githubusercontent.com/sinahuss/solar-flare-prediction/refs/heads/main/data/data.csv'\n",
    "df = pd.read_csv(url)\n",
    "\n",
    "df.head()"
   ]
  },
  {
   "cell_type": "markdown",
   "metadata": {
    "id": "KRY4P9xGI94V"
   },
   "source": [
    "### 2.2. Initial Data Inspection\n",
    "\n",
    "A foundational understanding of the dataset's structure and quality must be established. This inspection is critical for the solar flare prediction model because data quality directly impacts model performance and reliability for space weather forecasting.\n",
    "\n",
    "First we will use `.info()` to check the column names, data types, and look for any missing values. The `.describe()` function will provide a statistical summary of the numerical features, which helps in understanding the scale and distribution of the data.\n",
    "\n",
    "The output from `.info()` confirms that there are no missing values, meaning that null values do not have to be accounted for in the data preparation phase."
   ]
  },
  {
   "cell_type": "code",
   "execution_count": null,
   "metadata": {
    "id": "hmC34kT4I-sO"
   },
   "outputs": [],
   "source": [
    "df.info()\n",
    "\n",
    "df.describe()"
   ]
  },
  {
   "cell_type": "markdown",
   "metadata": {},
   "source": [
    "### 2.3. Dataset Feature Descriptions\n",
    "\n",
    "The dataset contains 13 features describing each solar active region. The first 10 are the input features for our model, and the last three are the target variables we aim to predict.\n",
    "\n",
    "**Input Features:**\n",
    "\n",
    "* **modified Zurich class:** A classification of the sunspot group's magnetic complexity (A, B, C, D, E, F, H).\n",
    "* **largest spot size:** A code for the size of the largest spot in the group (X, R, S, A, H, K).\n",
    "* **spot distribution:** A code for the compactness of the sunspot group (X, O, I, C).\n",
    "* **activity:** A code representing the region's recent growth (1=decay, 2=no change).\n",
    "* **evolution:** Describes the region's evolution over the last 24 hours (1=decay, 2=no growth, 3=growth).\n",
    "* **previous 24 hour flare activity:** A code summarizing prior flare activity (1=none, 2=one M1, 3=>one M1).\n",
    "* **historically-complex:** A flag indicating if the region was ever historically complex (1=Yes, 2=No).\n",
    "* **became complex on this pass:** A flag indicating if the region became complex on its current transit (1=Yes, 2=No).\n",
    "* **area:** A code for the total area of the sunspot group (1=small, 2=large).\n",
    "* **area of largest spot:** A code for the area of the largest individual spot (1=<=5, 2=>5).\n",
    "\n",
    "**Target Variables:**\n",
    "\n",
    "* **common flares:** The number of **C-class** flares produced in the next 24 hours.\n",
    "* **moderate flares:** The number of **M-class** flares produced in the next 24 hours.\n",
    "* **severe flares:** The number of **X-class** flares produced in the next 24 hours."
   ]
  },
  {
   "cell_type": "markdown",
   "metadata": {},
   "source": [
    "### 2.4. Exploratory Data Analysis"
   ]
  },
  {
   "cell_type": "markdown",
   "metadata": {},
   "source": [
    "#### 2.4.1. Target Variable Analysis\n",
    "\n",
    "Before analyzing the input features, we must first understand the distribution of our target variables: `common flares`, `moderate flares`, and `severe flares`. The plots below show the number of 24-hour periods in the dataset that recorded zero, one, two, or more flares of each type. This initial analysis is crucial for understanding the frequency of different flare intensities and will help inform how we engineer our final, unified target variable for the classification model."
   ]
  },
  {
   "cell_type": "code",
   "execution_count": null,
   "metadata": {},
   "outputs": [],
   "source": [
    "flare_columns = ['common flares', 'moderate flares', 'severe flares']\n",
    "fig, axes = plt.subplots(1, 3, figsize=(16, 5), sharey=True)\n",
    "fig.suptitle('Distribution of Raw Flare Counts Per 24-Hour Period')\n",
    "\n",
    "for i, col in enumerate(flare_columns):\n",
    "    sns.countplot(data=df, x=col, ax=axes[i], hue=col, palette='viridis', legend=False)\n",
    "    axes[i].set_title(f'Distribution of {col}')\n",
    "    axes[i].set_xlabel('Flares Recorded')\n",
    "\n",
    "plt.tight_layout(rect=[0, 0, 1, 0.95])\n",
    "plt.show()"
   ]
  },
  {
   "cell_type": "markdown",
   "metadata": {},
   "source": [
    "#### 2.4.2. Feature Analysis\n",
    "\n",
    "To understand the characteristics of sunspot regions that may influence solar flare activity, we analyze the three categorical features in our dataset. These features represent key morphological properties of sunspot groups that solar physicists use to assess flare potential:\n",
    "\n",
    "**Modified Zurich Class**: This classification system categorizes sunspot groups based on their magnetic complexity and structure. The classes range from simple (A, B, C) to complex (D, E, F, H), with more complex classes generally associated with higher flare probability. Complex magnetic configurations create more opportunities for magnetic reconnection events that trigger solar flares.\n",
    "\n",
    "**Largest Spot Size**: This feature indicates the maximum size of individual sunspots within a group, measured in millionths of the solar hemisphere. Larger spots often indicate stronger magnetic fields and greater potential for energy release through flares. The size categories help quantify the scale of magnetic activity in the region.\n",
    "\n",
    "**Spot Distribution**: This describes the spatial arrangement of sunspots within a group, ranging from single spots to complex clusters. The distribution pattern reflects the underlying magnetic field structure and can indicate the likelihood of magnetic reconnection events that produce flares.\n",
    "\n",
    "Understanding the distribution of these categorical features is crucial for the machine learning model because:\n",
    "- It helps identify potential class imbalances that could bias the model\n",
    "- It reveals which sunspot characteristics are most common in our dataset\n",
    "- It provides insight into the representativeness of our training data for real-world solar flare prediction scenarios\n",
    "\n",
    "The bar plots below will visualize the frequency distribution of each categorical feature, helping us assess data quality and identify any preprocessing needs for the modeling phase."
   ]
  },
  {
   "cell_type": "code",
   "execution_count": null,
   "metadata": {},
   "outputs": [],
   "source": [
    "categorical_features = ['modified Zurich class', 'largest spot size', 'spot distribution']\n",
    "category_orders = {\n",
    "    'modified Zurich class': ['B', 'C', 'D', 'E', 'F', 'H'],\n",
    "    'largest spot size': ['X', 'R', 'S', 'A', 'H', 'K'],\n",
    "    'spot distribution': ['X', 'O', 'I', 'C']\n",
    "}\n",
    "\n",
    "fig, axes = plt.subplots(1, 3, figsize=(20, 6), sharey=True)\n",
    "fig.suptitle('Distribution of Key Categorical Features')\n",
    "\n",
    "for i, feature in enumerate(categorical_features):\n",
    "    sns.countplot(ax=axes[i], data=df, x=feature, order=category_orders[feature], hue=feature, palette='viridis')\n",
    "    axes[i].set_title(f'Distribution of {feature}')\n",
    "    axes[i].tick_params(axis='x', rotation=45)\n",
    "\n",
    "plt.tight_layout(rect=[0, 0, 1, 0.95])\n",
    "plt.show()"
   ]
  },
  {
   "cell_type": "markdown",
   "metadata": {},
   "source": [
    "#### 2.4.3. Relationship Analysis\n",
    "\n",
    "Having analyzed the features and targets individually, we now explore their relationship. The grouped bar chart below investigates a key hypothesis: that more complex sunspot groups produce more significant flares. By visualizing the total number of C, M, and X-class flares produced by each modified Zurich class, we can identify which sunspot configurations are the most prolific sources of solar flares. This insight is foundational for building an accurate predictive model."
   ]
  },
  {
   "cell_type": "code",
   "execution_count": null,
   "metadata": {},
   "outputs": [],
   "source": [
    "# Melt the dataframe to have a single column for flare type and another for the count\n",
    "flare_counts_df = df.melt(\n",
    "    id_vars=['modified Zurich class'],\n",
    "    value_vars=['common flares', 'moderate flares', 'severe flares'],\n",
    "    var_name='flare_type',\n",
    "    value_name='count'\n",
    ")\n",
    "\n",
    "# Remove rows where flares have not occurred\n",
    "flare_counts_df = flare_counts_df[flare_counts_df['count'] > 0]\n",
    "\n",
    "# --- Create the Grouped Bar Plot ---\n",
    "plt.figure(figsize=(16, 8))\n",
    "sns.barplot(\n",
    "    data=flare_counts_df,\n",
    "    x='modified Zurich class',\n",
    "    y='count',\n",
    "    hue='flare_type',\n",
    "    estimator=sum,\n",
    "    order=category_orders['modified Zurich class'], # Enforce natural order\n",
    "    palette='viridis',\n",
    "    errorbar=None\n",
    ")\n",
    "\n",
    "plt.title('Total Flares Produced by Sunspot Zurich Class', fontsize=16)\n",
    "plt.xlabel('Modified Zurich Class', fontsize=12)\n",
    "plt.ylabel('Total Number of Flares Recorded', fontsize=12)\n",
    "plt.legend(title='Flare Type')\n",
    "plt.show()"
   ]
  },
  {
   "cell_type": "markdown",
   "metadata": {},
   "source": [
    "## 3. Data Preparation"
   ]
  },
  {
   "cell_type": "markdown",
   "metadata": {
    "id": "w5lilJikbqfH"
   },
   "source": [
    "### 3.1. Categorize and Count Flare Classes\n",
    "\n",
    "The dataset tracks C, M, and X-class flares in three separate columns, representing the count of each event type. For this classification task, a single target variable is needed. A new column will be created called `flare_class` that categorizes each 24-hour period by the most significant flare produced by a sunspot group, following the standard hierarchy (X > M > C)."
   ]
  },
  {
   "cell_type": "code",
   "execution_count": null,
   "metadata": {
    "id": "bApKu4oVVaPe"
   },
   "outputs": [],
   "source": [
    "# Determine the highest flare class for each row\n",
    "def get_flare_class(row):\n",
    "    if row['severe flares'] > 0:\n",
    "        return 3 # X-class\n",
    "    elif row['moderate flares'] > 0:\n",
    "        return 2 # M-class\n",
    "    elif row['common flares'] > 0:\n",
    "        return 1 # C-class\n",
    "    else:\n",
    "        return 0 # None\n",
    "\n",
    "# Create a new target column\n",
    "df['flare_class'] = df.apply(get_flare_class, axis=1)\n",
    "\n",
    "print(df['flare_class'].value_counts())"
   ]
  },
  {
   "cell_type": "markdown",
   "metadata": {},
   "source": [
    "### 3.2. Prevent Data Leakage\n",
    "\n",
    "The original flare columns are dropped to prevent data leakage."
   ]
  },
  {
   "cell_type": "code",
   "execution_count": null,
   "metadata": {},
   "outputs": [],
   "source": [
    "# Drop original flare columns to prevent data leakage\n",
    "df.drop(columns=['common flares', 'moderate flares', 'severe flares'], inplace=True)"
   ]
  },
  {
   "cell_type": "markdown",
   "metadata": {
    "id": "fo0In97iiQSt"
   },
   "source": [
    "### 3.3. One-Hot Encode Categorical Features\n",
    "\n",
    "The machine learning model requires all input features to be numerical. The dataset contains several categorical columns with object data types (e.g., 'modified Zurich class'). One-hot encoding will be used to convert these categorical features into a numerical format, creating new binary columns for each category. This is a crucial step to make the data suitable for the classification algorithm."
   ]
  },
  {
   "cell_type": "code",
   "execution_count": null,
   "metadata": {
    "id": "0I9Vi67biM2k"
   },
   "outputs": [],
   "source": [
    "# Identify the categorical columns to be encoded\n",
    "categorical_cols = ['modified Zurich class', 'largest spot size', 'spot distribution']\n",
    "\n",
    "# Apply one-hot encoding using pandas get_dummies\n",
    "df_encoded = pd.get_dummies(df, columns=categorical_cols)\n",
    "\n",
    "# Display the first few rows to see the new columns\n",
    "df_encoded.head()"
   ]
  }
 ],
 "metadata": {
  "colab": {
   "authorship_tag": "ABX9TyMPDdiR6kQYo2jRCqiFc+7x",
   "include_colab_link": true,
   "provenance": [],
   "toc_visible": true
  },
  "kernelspec": {
   "display_name": "cenv",
   "language": "python",
   "name": "python3"
  },
  "language_info": {
   "codemirror_mode": {
    "name": "ipython",
    "version": 3
   },
   "file_extension": ".py",
   "mimetype": "text/x-python",
   "name": "python",
   "nbconvert_exporter": "python",
   "pygments_lexer": "ipython3",
   "version": "3.13.5"
  }
 },
 "nbformat": 4,
 "nbformat_minor": 0
}
